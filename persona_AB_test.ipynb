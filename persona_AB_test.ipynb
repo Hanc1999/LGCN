{
 "cells": [
  {
   "cell_type": "markdown",
   "metadata": {},
   "source": [
    "## AB Test: Check how persona has effect on rec sys"
   ]
  },
  {
   "cell_type": "code",
   "execution_count": 24,
   "metadata": {},
   "outputs": [],
   "source": [
    "# builtin\n",
    "import importlib\n",
    "# internal\n",
    "import read_data\n",
    "import train_model\n",
    "import params\n",
    "from tqdm.contrib.concurrent import process_map\n",
    "# external\n",
    "import pandas as pd\n",
    "import numpy as np\n",
    "import matplotlib.pyplot as plt\n",
    "import json\n",
    "import os"
   ]
  },
  {
   "cell_type": "markdown",
   "metadata": {},
   "source": [
    "### Check the item name recommend to each user"
   ]
  },
  {
   "cell_type": "code",
   "execution_count": 25,
   "metadata": {},
   "outputs": [],
   "source": [
    "res_dir = \"experiment_result/MBA/\"\n",
    "lgcn_dir = res_dir + \"LGCN/\"\n",
    "tri_lgcn_dir = res_dir + \"LGCN_tri/\"\n",
    "tri_lgcn_approach_dir = res_dir + \"LGCN_tri_approach/\"\n",
    "AB_test_dir = res_dir + \"AB_test/\""
   ]
  },
  {
   "cell_type": "code",
   "execution_count": 26,
   "metadata": {},
   "outputs": [],
   "source": [
    "# load MBA_LGCN_result.json and MBA_LGCN_tri_result.json\n",
    "with open(AB_test_dir + 'MBA_LGCN_result.json', 'r') as f:\n",
    "    lgcn_res = json.load(f)\n",
    "with open(AB_test_dir + 'MBA_LGCN_tri_result.json', 'r') as f:\n",
    "    lgcn_tri_res = json.load(f)"
   ]
  },
  {
   "cell_type": "code",
   "execution_count": 27,
   "metadata": {},
   "outputs": [
    {
     "data": {
      "text/plain": [
       "(4207, 4207)"
      ]
     },
     "execution_count": 27,
     "metadata": {},
     "output_type": "execute_result"
    }
   ],
   "source": [
    "len(lgcn_res), len(lgcn_tri_res)"
   ]
  },
  {
   "cell_type": "code",
   "execution_count": 28,
   "metadata": {},
   "outputs": [],
   "source": [
    "# 把json按user_id的int排序，并检查是否一致\n",
    "lgcn_res_sorted = {int(k): v for k,v in lgcn_res.items()}\n",
    "lgcn_tri_res_sorted = {int(k): v for k,v in lgcn_tri_res.items()}\n",
    "assert sorted(lgcn_res.keys()) == sorted(lgcn_tri_res.keys())"
   ]
  },
  {
   "cell_type": "code",
   "execution_count": 29,
   "metadata": {},
   "outputs": [],
   "source": [
    "list_empty = []\n",
    "for i in range(1, 4297):\n",
    "    if i not in lgcn_res_sorted:\n",
    "        list_empty.append(i)\n",
    "# 导入tri_graph_uid2tidx_valid.json，检查list_empty里的user_id在这个json里对应的value是否为空\n",
    "import json\n",
    "with open('dataset/MBA/tri_graph_uidx2tidx_valid.json', 'r') as f:\n",
    "    uid2tidx = json.load(f)\n",
    "# 检查list_empty里的user_id在uid2tidx里对应的value是否都为空\n",
    "for i in list_empty:\n",
    "    assert uid2tidx[str(i)] == []\n"
   ]
  },
  {
   "cell_type": "code",
   "execution_count": 30,
   "metadata": {},
   "outputs": [
    {
     "name": "stderr",
     "output_type": "stream",
     "text": [
      "/var/folders/lh/1l1yxhh50vdcdltw404st9z80000gn/T/ipykernel_63854/2486020301.py:2: DtypeWarning: Columns (0) have mixed types. Specify dtype option on import or set low_memory=False.\n",
      "  mba_df = pd.read_csv('dataset/MBA/market.csv', sep=';')\n"
     ]
    },
    {
     "name": "stdout",
     "output_type": "stream",
     "text": [
      "   BillNo                             Itemname  Quantity              Date  \\\n",
      "0  536365   WHITE HANGING HEART T-LIGHT HOLDER         6  01.12.2010 08:26   \n",
      "1  536365                  WHITE METAL LANTERN         6  01.12.2010 08:26   \n",
      "2  536365       CREAM CUPID HEARTS COAT HANGER         8  01.12.2010 08:26   \n",
      "3  536365  KNITTED UNION FLAG HOT WATER BOTTLE         6  01.12.2010 08:26   \n",
      "4  536365       RED WOOLLY HOTTIE WHITE HEART.         6  01.12.2010 08:26   \n",
      "\n",
      "  Price  CustomerID         Country  \n",
      "0  2,55     17850.0  United Kingdom  \n",
      "1  3,39     17850.0  United Kingdom  \n",
      "2  2,75     17850.0  United Kingdom  \n",
      "3  3,39     17850.0  United Kingdom  \n",
      "4  3,39     17850.0  United Kingdom  \n",
      "all nan eliminated\n",
      "totally 4297 unique users\n",
      "totally 3846 unique items\n",
      "totally 18163 unique transactions\n"
     ]
    }
   ],
   "source": [
    "# load dataset\n",
    "mba_df = pd.read_csv('dataset/MBA/market.csv', sep=';')\n",
    "# mba_df = pd.read_csv('../ds/MBA/data.csv', sep=';')\n",
    "print(mba_df.head())\n",
    "# clean nan rows\n",
    "if mba_df.isna().sum().sum() > 0:\n",
    "    print('all nan eliminated')\n",
    "    mba_df = mba_df.dropna()\n",
    "# transfer types\n",
    "mba_df['BillNo'] = mba_df['BillNo'].astype('int32')\n",
    "mba_df['Itemname'] = mba_df['Itemname'].astype('string')\n",
    "mba_df['Quantity'] = mba_df['Quantity'].astype('int32')\n",
    "mba_df['Date'] = mba_df['Date'].astype('string')\n",
    "mba_df['Price'] = mba_df['Price'].astype('string')\n",
    "mba_df['CustomerID'] = mba_df['CustomerID'].astype('int32')\n",
    "\n",
    "# Identifications\n",
    "# for user nodes\n",
    "user_ids = mba_df['CustomerID'].unique()\n",
    "user_num = len(user_ids)\n",
    "print(f'totally {user_num} unique users')\n",
    "user_ids.sort()\n",
    "user_ids_kv = {}\n",
    "for ui in range(user_num):\n",
    "    user_ids_kv[user_ids[ui]] = ui\n",
    "\n",
    "# for item nodes\n",
    "item_names = mba_df['Itemname'].unique()\n",
    "item_num = len(item_names)\n",
    "print(f'totally {item_num} unique items')\n",
    "# item_names.sort()\n",
    "items_kv = {}\n",
    "for ii in range(item_num):\n",
    "    items_kv[item_names[ii]] = ii\n",
    "\n",
    "# for transaction nodes\n",
    "trans_ids = mba_df['BillNo'].unique()\n",
    "trans_num = len(trans_ids)\n",
    "print(f'totally {trans_num} unique transactions')\n",
    "trans_ids.sort()\n",
    "trans_kv = {}\n",
    "for ti in range(trans_num):\n",
    "    trans_kv[trans_ids[ti]] = ti\n",
    "\n",
    "# # construct the bi-partite graph\n",
    "G_user = {} # {uidx: [tidx,]}\n",
    "G_item = {} # {tidx: [uidx,]}\n",
    "\n",
    "for index,row in mba_df.iterrows():\n",
    "    user_index = user_ids_kv[row['CustomerID']]\n",
    "    item_index = items_kv[row['Itemname']]\n",
    "    \n",
    "    # update user side\n",
    "    if G_user.get(user_index) is None:\n",
    "        G_user[user_index] = {item_index}\n",
    "    else:\n",
    "        G_user[user_index].update([item_index])\n",
    "    \n",
    "    # update item side\n",
    "    if G_item.get(item_index) is None:\n",
    "        G_item[item_index] = {user_index}\n",
    "    else:\n",
    "        G_item[item_index].update([user_index])\n",
    "\n",
    "assert len(G_item.keys()) == item_num and len(G_user.keys()) == user_num"
   ]
  },
  {
   "cell_type": "code",
   "execution_count": 31,
   "metadata": {},
   "outputs": [
    {
     "data": {
      "text/plain": [
       "'WHITE METAL LANTERN'"
      ]
     },
     "execution_count": 31,
     "metadata": {},
     "output_type": "execute_result"
    }
   ],
   "source": [
    "item_names[1]"
   ]
  },
  {
   "cell_type": "code",
   "execution_count": 32,
   "metadata": {},
   "outputs": [],
   "source": [
    "# 把MBA_LGCN_result_sorted里，第二个和第三个[]里的item_id转换成item_name，也就是test_list和pred_list\n",
    "lgcn_res_sorted_item_name = {}\n",
    "for k, v in lgcn_res_sorted.items():\n",
    "    v[1] = [item_names[i] for i in v[1]]\n",
    "    v[2] = [item_names[i] for i in v[2]]\n",
    "    lgcn_res_sorted_item_name[k] = v\n",
    "\n",
    "# 把MBA_LGCN_tri_result_sorted里，第二个和第三个[]里的item_id转换成item_name，也就是test_list和pred_list\n",
    "lgcn_tri_res_sorted_item_name = {}\n",
    "for k, v in lgcn_tri_res_sorted.items():\n",
    "    v[1] = [item_names[i] for i in v[1]]\n",
    "    v[2] = [item_names[i] for i in v[2]]\n",
    "    lgcn_tri_res_sorted_item_name[k] = v\n",
    "\n",
    "# # 重新写进json\n",
    "# with open(AB_test_dir + 'MBA_LGCN_result_sorted_item_name.json', 'w') as f:\n",
    "#     json.dump(lgcn_res_sorted_item_name, f)\n",
    "# with open(AB_test_dir + 'MBA_LGCN_tri_result_sorted_item_name.json', 'w') as f:\n",
    "#     json.dump(lgcn_tri_res_sorted_item_name, f)"
   ]
  },
  {
   "cell_type": "markdown",
   "metadata": {},
   "source": [
    "### Check the difference of LGCN recommend items and LGCN_tri recommend items"
   ]
  },
  {
   "cell_type": "code",
   "execution_count": 33,
   "metadata": {},
   "outputs": [],
   "source": [
    "persona2idx_whole = {'Kitchen and Culinary Enthusiast': 0,\n",
    " 'Home Decor Aficionado': 1,\n",
    " 'Vintage and Retro Enthusiast': 2,\n",
    " 'Seasonal and Festive Decorator': 3,\n",
    " 'Crafting and DIY Hobbyist': 4,\n",
    " 'Baking and Confectionery Fans': 5,\n",
    " 'Child and Family-centric Shopper': 6,\n",
    " 'Collector of Unique and Novelty Items': 7,\n",
    " 'Comfort and Coziness Seeker': 8,\n",
    " 'Gardening Lover': 9,\n",
    " 'Tea and Coffee Lover': 10,\n",
    " 'Educational and Learning Driven': 11,\n",
    " 'Stationery and Organization Enthusiast': 12,\n",
    " 'Eco-friendly and Sustainable Goods Supporter': 13,\n",
    " 'Party and Event Planners': 14,\n",
    " 'Outdoor and Adventure Prep': 15,\n",
    " 'Fashion Forward and Accessory Savvy': 16,\n",
    " 'Art and Design Admirers': 17,\n",
    " 'Animal and Pet Advocates': 18,\n",
    " 'Health and Wellness Focus': 19}"
   ]
  },
  {
   "cell_type": "code",
   "execution_count": 34,
   "metadata": {},
   "outputs": [],
   "source": [
    "# 读入tri_graph_uidx2pidx.json，以便知道每个user被assign了哪些persona\n",
    "with open('dataset/MBA/tri_graph_uidx2pidx.json', 'r') as f:\n",
    "    uid2pidx = json.load(f)\n",
    "# 按user_id排序\n",
    "uid2pidx_sorted = {int(k): v for k,v in uid2pidx.items()}\n",
    "\n",
    "# 再读入tri_graph_tidx2pidx.json，以便知道每个item有哪些persona\n",
    "with open('dataset/MBA/tri_graph_tidx2pidx.json', 'r') as f:\n",
    "    tidx2pidx = json.load(f)\n",
    "# 按item_id排序\n",
    "tidx2pidx_sorted = {int(k): v for k,v in tidx2pidx.items()}"
   ]
  },
  {
   "cell_type": "code",
   "execution_count": 233,
   "metadata": {},
   "outputs": [
    {
     "data": {
      "text/plain": [
       "(4286, 3846, 4286, 3846)"
      ]
     },
     "execution_count": 233,
     "metadata": {},
     "output_type": "execute_result"
    }
   ],
   "source": [
    "len(uid2pidx), len(tidx2pidx), len(uid2pidx_sorted), len(tidx2pidx_sorted)"
   ]
  },
  {
   "cell_type": "code",
   "execution_count": 36,
   "metadata": {},
   "outputs": [],
   "source": [
    "# 对于lgcn_res_sorted_item_name和lgcn_tri_res_sorted_item_name，看看他们的pred_list里有哪些不一样的item_name\n",
    "# 对于每个user，记录item_in_lgcn_not_in_lgcn_tri和item_in_lgcn_tri_not_in_lgcn\n",
    "\n",
    "item_in_lgcn_not_in_lgcn_tri = {}\n",
    "item_in_lgcn_tri_not_in_lgcn = {}\n",
    "for k in lgcn_res_sorted_item_name.keys():\n",
    "    v1 = lgcn_res_sorted_item_name[k]\n",
    "    v2 = lgcn_tri_res_sorted_item_name[k]\n",
    "    item_in_lgcn_not_in_lgcn_tri[k] = [i for i in v1[2] if i not in v2[2]]\n",
    "    item_in_lgcn_tri_not_in_lgcn[k] = [i for i in v2[2] if i not in v1[2]]\n",
    "\n",
    "# # 保存到json\n",
    "# with open(AB_test_dir + 'item_in_lgcn_not_in_lgcn_tri.json', 'w') as f:\n",
    "#     json.dump(item_in_lgcn_not_in_lgcn_tri, f)\n",
    "# with open(AB_test_dir + 'item_in_lgcn_tri_not_in_lgcn.json', 'w') as f:\n",
    "#     json.dump(item_in_lgcn_tri_not_in_lgcn, f)"
   ]
  },
  {
   "cell_type": "code",
   "execution_count": 37,
   "metadata": {},
   "outputs": [
    {
     "data": {
      "text/plain": [
       "(4048, 198)"
      ]
     },
     "execution_count": 37,
     "metadata": {},
     "output_type": "execute_result"
    }
   ],
   "source": [
    "# 找出在lgcn和lgcn_tri两个方法中被推荐item区别最大的user，也就是说，对于这个user，它在item_in_lgcn_not_in_lgcn_tri和item_in_lgcn_tri_not_in_lgcn里的item数量总数最多\n",
    "max_diff_user = -1\n",
    "max_diff_num = 0\n",
    "for k in item_in_lgcn_not_in_lgcn_tri.keys():\n",
    "    diff_num = len(item_in_lgcn_not_in_lgcn_tri[k]) + len(item_in_lgcn_tri_not_in_lgcn[k])\n",
    "    if diff_num > max_diff_num:\n",
    "        max_diff_num = diff_num\n",
    "        max_diff_user = k\n",
    "\n",
    "max_diff_user, max_diff_num\n"
   ]
  },
  {
   "cell_type": "code",
   "execution_count": 38,
   "metadata": {},
   "outputs": [
    {
     "data": {
      "text/plain": [
       "[7]"
      ]
     },
     "execution_count": 38,
     "metadata": {},
     "output_type": "execute_result"
    }
   ],
   "source": [
    "# 看看这个user的persona是什么\n",
    "uid2pidx_sorted[max_diff_user]"
   ]
  },
  {
   "cell_type": "code",
   "execution_count": 39,
   "metadata": {},
   "outputs": [
    {
     "data": {
      "text/plain": [
       "['BLACK KITCHEN SCALES',\n",
       " 'RED HANGING HEART T-LIGHT HOLDER',\n",
       " 'PAPER LANTERN 9 POINT HOLLY STAR S',\n",
       " 'CAKE PLATE LOVEBIRD WHITE',\n",
       " 'RED KITCHEN SCALES',\n",
       " 'ROUND CAKE TIN VINTAGE RED',\n",
       " 'PIECE OF CAMO STATIONERY SET',\n",
       " 'GRAND CHOCOLATECANDLE',\n",
       " 'CAKE PLATE LOVEBIRD PINK',\n",
       " 'BREAD BIN DINER STYLE IVORY',\n",
       " 'PINK CREAM FELT CRAFT TRINKET BOX',\n",
       " 'BISCUIT TIN VINTAGE RED',\n",
       " 'WHITE HANGING HEART T-LIGHT HOLDER',\n",
       " 'BOX OF 6 CHRISTMAS CAKE DECORATIONS',\n",
       " 'IVORY KITCHEN SCALES',\n",
       " 'SET 3 SONG BIRD PAPER EGGS ASSORTED',\n",
       " 'ROUND CAKE TIN VINTAGE GREEN',\n",
       " 'CUPCAKE LACE PAPER SET 6',\n",
       " 'SWEETHEART CAKESTAND 3 TIER',\n",
       " 'SET/4 SPRING FLOWER DECORATION',\n",
       " 'ASSORTED TUTTI FRUTTI LARGE PURSE',\n",
       " 'GREEN SQUARE COMPACT MIRROR',\n",
       " '72 SWEETHEART FAIRY CAKE CASES',\n",
       " 'ASSORTED TUTTI FRUTTI PEN',\n",
       " 'NINE DRAWER OFFICE TIDY',\n",
       " 'BREAD BIN DINER STYLE MINT',\n",
       " 'LANTERN CREAM GAZEBO',\n",
       " 'PINK BLUE FELT CRAFT TRINKET BOX',\n",
       " 'ROSES REGENCY TEACUP AND SAUCER',\n",
       " 'JET BLACK LAS VEGAS NECKLACE 45CM',\n",
       " 'PINK JEWELLED PHOTO FRAME',\n",
       " 'BIRD DECORATION GREEN POLKADOT',\n",
       " 'POPART WOODEN PENCILS ASST',\n",
       " 'PACK OF 72 SKULL CAKE CASES',\n",
       " 'CREAM SWEETHEART EGG HOLDER',\n",
       " 'ASSORTED FLOWER COLOUR \"LEIS\"',\n",
       " 'CANDLEHOLDER PINK HANGING HEART',\n",
       " 'PENS ASSORTED FUNNY FACE',\n",
       " 'JAM JAR WITH PINK LID',\n",
       " 'REGENCY TEAPOT ROSES',\n",
       " 'POPCORN HOLDER',\n",
       " 'CREAM HEART CARD HOLDER']"
      ]
     },
     "execution_count": 39,
     "metadata": {},
     "output_type": "execute_result"
    }
   ],
   "source": [
    "# 把这个用户的item_in_lgcn_not_in_lgcn_tri和item_in_lgcn_tri_not_in_lgcn里的item_name打印出来\n",
    "# item_in_lgcn_not_in_lgcn_tri[max_diff_user], item_in_lgcn_tri_not_in_lgcn[max_diff_user]\n",
    "# item_in_lgcn_not_in_lgcn_tri[5]\n",
    "item_in_lgcn_tri_not_in_lgcn[5]"
   ]
  },
  {
   "cell_type": "code",
   "execution_count": 40,
   "metadata": {},
   "outputs": [
    {
     "name": "stdout",
     "output_type": "stream",
     "text": [
      "0: [2, 7]\n",
      "0: [8, 4, 16]\n",
      "1: [3, 7]\n",
      "1: [9, 1, 18]\n",
      "2: [8, 2, 7]\n",
      "2: [1, 4]\n",
      "3: [12, 6, 11]\n",
      "3: [18, 1, 7]\n",
      "4: [2, 7, 1]\n",
      "4: [10, 18, 1, 7]\n",
      "5: [12, 7, 4]\n",
      "5: [18, 7, 2]\n",
      "6: [4, 3, 7, 16, 17]\n",
      "6: [9, 1, 18]\n",
      "7: [1, 2, 3]\n",
      "7: [7, 6, 18]\n",
      "8: [1, 8, 7]\n",
      "8: [4, 11, 17]\n",
      "9: [12, 4, 6, 14, 7]\n",
      "9: [7, 1, 18]\n",
      "10: [2, 7, 1]\n",
      "10: [4, 18, 7]\n",
      "11: [0, 2]\n",
      "11: [18, 12, 7]\n",
      "12: [0, 1, 7]\n",
      "12: [18, 4, 7]\n",
      "13: [7, 6]\n",
      "13: [18, 1]\n",
      "14: [8, 2]\n",
      "14: [7, 18, 1]\n",
      "15: [8, 7]\n",
      "15: [1, 3, 18, 7]\n",
      "16: [16, 7, 2]\n",
      "16: [18, 1, 7]\n",
      "17: [14, 8, 6]\n",
      "17: [1, 18, 7]\n",
      "18: [7, 16]\n",
      "18: [6, 18, 7]\n",
      "19: [8, 7, 2]\n",
      "19: [6, 8, 18]\n",
      "20: []\n",
      "20: [18, 1, 7]\n",
      "21: [8, 7]\n",
      "21: [16, 7]\n",
      "22: [2, 7, 8]\n",
      "22: [7, 18]\n",
      "23: [1, 2, 4]\n",
      "23: [1, 18, 7]\n",
      "24: [2, 16, 7]\n",
      "24: [1, 9, 2, 4]\n",
      "25: [1, 2, 4]\n",
      "25: [6, 7, 8, 3, 18]\n",
      "26: [3, 1, 2]\n",
      "26: [9, 1, 7]\n",
      "27: [8, 18, 2, 6]\n",
      "27: [1, 2, 0]\n",
      "28: [1, 3, 9]\n",
      "28: [4, 6, 18, 7]\n",
      "29: [4, 0, 1, 2]\n",
      "29: [1, 8]\n",
      "30: [8]\n",
      "30: [1, 9, 7]\n",
      "31: [4, 3, 14]\n",
      "31: [18, 0, 7, 8]\n",
      "32: [4, 12, 11, 17]\n",
      "32: [3, 1, 4]\n",
      "33: [1, 3, 8]\n",
      "33: [1, 18, 7]\n",
      "34: [1, 17]\n",
      "34: [18, 7]\n",
      "35: [0, 6, 7]\n",
      "35: [7, 17, 18]\n",
      "36: [12, 7, 16]\n",
      "36: [3, 18, 7, 1]\n",
      "37: [7, 14, 15]\n",
      "37: [3, 1, 7]\n",
      "38: [0, 2, 7]\n",
      "38: [9, 1, 18]\n",
      "39: [1, 8, 2, 3, 7]\n",
      "39: [1, 9, 2, 7]\n",
      "40: [2, 3, 14]\n",
      "40: [1, 2, 18, 7]\n",
      "41: [12, 11]\n",
      "41: [18, 10, 7]\n",
      "42: [9, 8]\n",
      "42: [8]\n",
      "43: [7, 2, 16]\n",
      "43: [9, 7, 18]\n",
      "44: [1, 7]\n",
      "44: [1, 3, 18, 17]\n",
      "45: [12, 7, 11]\n",
      "45: [9, 1, 6, 18]\n",
      "46: [5, 8]\n",
      "46: [1, 9, 18, 2, 7]\n",
      "47: [8, 7, 6]\n",
      "47: [4, 2, 3, 9]\n",
      "48: [4, 1, 2, 0]\n",
      "48: [9, 18, 1, 13]\n",
      "49: [1, 2, 7]\n",
      "49: [1, 3]\n",
      "50: [0, 1, 2]\n",
      "50: [9, 1, 7]\n",
      "51: [2, 1, 12]\n",
      "51: [18]\n",
      "52: [3, 1, 14]\n",
      "52: [18, 12, 7]\n",
      "53: [2, 7, 1]\n",
      "53: [4, 18, 7]\n",
      "54: [1, 2, 9]\n",
      "54: [1, 6, 18, 8]\n",
      "55: [19, 8, 7]\n",
      "55: [1, 14, 7]\n",
      "56: [1, 3, 4]\n",
      "56: [18]\n",
      "57: [12, 4, 7]\n",
      "57: [16, 7, 8]\n",
      "58: [7, 6]\n",
      "58: [3, 1, 4, 18]\n",
      "59: [8, 18, 2]\n",
      "59: [0, 5, 1]\n",
      "60: [6, 15, 7]\n",
      "60: [9, 18, 1]\n",
      "61: [4, 11, 6, 7]\n",
      "61: [6, 7, 8]\n",
      "62: [1, 2]\n",
      "62: [1, 0, 2]\n",
      "63: [7, 18, 17]\n",
      "63: [1, 18, 2, 4]\n",
      "64: [6, 14, 7]\n",
      "64: [1, 18, 7]\n",
      "65: [1, 2, 8, 3]\n",
      "65: [3, 1]\n",
      "66: [4, 12, 7]\n",
      "66: [4, 1, 18, 7]\n",
      "67: [11, 6, 7]\n",
      "67: [1, 8, 7]\n",
      "68: [7, 2]\n",
      "68: [7, 16, 18]\n",
      "69: [8, 7]\n",
      "69: [1, 2, 17]\n",
      "70: [4, 12, 7, 11]\n",
      "70: [16, 7, 4]\n",
      "71: [19, 13, 8]\n",
      "71: [4, 6, 7, 18]\n",
      "72: [3, 1, 2, 4, 7]\n",
      "72: [6, 18, 7, 11]\n",
      "73: [1, 2, 3]\n",
      "73: [1, 18, 17]\n",
      "74: [8, 19]\n",
      "74: [18, 7, 2]\n",
      "75: [8, 18]\n",
      "75: [6, 18, 7]\n",
      "76: [1, 2]\n",
      "76: [1, 2, 10, 18]\n",
      "77: [8, 1, 2]\n",
      "77: [1, 18, 17]\n",
      "78: [1, 2]\n",
      "78: [6, 7, 2]\n",
      "79: [8, 15]\n",
      "79: [16, 7, 17]\n",
      "80: [9, 10, 8]\n",
      "80: [0, 1]\n",
      "81: [8, 18, 7]\n",
      "81: [4, 1, 7]\n",
      "82: [4, 3, 7]\n",
      "82: [16, 7]\n",
      "83: [1, 7]\n",
      "83: [12, 16, 7]\n",
      "84: [7, 12, 4]\n",
      "84: [9, 1, 7]\n",
      "85: [3, 4, 2]\n",
      "85: [18]\n",
      "86: [7, 12, 11]\n",
      "86: [1, 2]\n",
      "87: [1, 7]\n",
      "87: [4, 7, 16]\n",
      "88: [5, 7, 14]\n",
      "88: [3, 7]\n",
      "89: [16, 7]\n",
      "89: [1, 4, 9, 2]\n",
      "90: [7, 11, 6]\n",
      "90: [4, 18, 12, 7]\n",
      "91: [3, 0, 14]\n",
      "91: [4, 9, 1, 3]\n",
      "92: [1, 3, 14]\n",
      "92: [9, 1, 3, 18]\n",
      "93: [1, 2, 9]\n",
      "93: [2, 1, 0]\n",
      "94: [8, 2]\n",
      "94: [16, 7]\n",
      "95: [4, 11, 17]\n",
      "95: [16, 7]\n",
      "96: [12, 7, 11]\n",
      "96: [1, 2, 8]\n",
      "97: [2, 14, 0]\n",
      "97: [7, 18]\n",
      "98: [7, 14, 2]\n",
      "98: [3, 7, 1]\n",
      "53 60\n"
     ]
    }
   ],
   "source": [
    "# 看item_in_lgcn_tri_not_in_lgcn[5][0]对应的persona是什么\n",
    "# position_list = [3, 5, 8, 9, 10, 11, 13, 16, 22, 25, 26, 33, 34, 41]\n",
    "count_lgcn = 0\n",
    "count_lgcn_tri = 0\n",
    "for i in range (0, 99):\n",
    "    print(f'{i}: {tidx2pidx_sorted[items_kv[item_in_lgcn_not_in_lgcn_tri[4048][i]]]}')\n",
    "    print(f'{i}: {tidx2pidx_sorted[items_kv[item_in_lgcn_tri_not_in_lgcn[4048][i]]]}')\n",
    "    if 7 in tidx2pidx_sorted[items_kv[item_in_lgcn_not_in_lgcn_tri[4048][i]]]:\n",
    "        count_lgcn += 1\n",
    "    if 7 in tidx2pidx_sorted[items_kv[item_in_lgcn_tri_not_in_lgcn[4048][i]]]:\n",
    "        count_lgcn_tri += 1\n",
    "# tidx2pidx_sorted[items_kv[item_in_lgcn_tri_not_in_lgcn[5][3]]]\n",
    "print(count_lgcn, count_lgcn_tri)\n",
    "\n"
   ]
  },
  {
   "cell_type": "markdown",
   "metadata": {},
   "source": [
    "### Narrow down user range: 5 purchased items, top 20, overlap percentage inceases most: 2/20->5/20;"
   ]
  },
  {
   "cell_type": "code",
   "execution_count": 41,
   "metadata": {},
   "outputs": [
    {
     "name": "stdout",
     "output_type": "stream",
     "text": [
      "[191, 383, 679, 833, 1008, 1631, 1964, 1975, 2070, 2190, 2259, 2354, 3038, 3063, 3281, 3285, 3658, 3759, 3938, 4047, 4254, 37, 3726, 484, 1247, 2377, 2708, 3065, 3258, 68, 71, 103, 115, 230, 435, 461, 479, 572, 690, 731, 811, 857, 972, 986, 1037, 1054, 1212, 1222, 1298, 1370, 1419, 1501, 1546, 1638, 1686, 1720, 2138, 2152, 2201, 2219, 2224, 2419, 2456, 2472, 2498, 2536, 2597, 2643, 2774, 2813, 3093, 3251, 3311, 3405, 3428, 3701, 3743, 3750, 3885, 3949, 4059, 4125, 4164, 505, 581, 751, 1630, 2127, 2801, 3334, 4106, 960, 1141, 2074, 236, 3719, 777, 906, 1659, 2216]\n"
     ]
    }
   ],
   "source": [
    "overlap_count_lgcn = {}\n",
    "overlap_percentage_lgcn = {}\n",
    "overlap_count_lgcn_tri = {}\n",
    "overlap_percentage_lgcn_tri = {}\n",
    "incresed_percentage = {}\n",
    "\n",
    "for k in lgcn_res_sorted_item_name.keys():\n",
    "# for k in range (1, 2):\n",
    "    v1 = lgcn_res_sorted_item_name[k]\n",
    "    v2 = lgcn_tri_res_sorted_item_name[k]\n",
    "    # print(set(v1[2][:20]))\n",
    "    # print(set(v1[1][0:]))\n",
    "    overlap_count_lgcn[k] = len(set(v1[2][:20]) & set(v1[1][0:]))\n",
    "    overlap_percentage_lgcn[k] = overlap_count_lgcn[k] / len(set(v1[1][0:]))\n",
    "    # print(overlap_percentage_lgcn[k])\n",
    "    overlap_count_lgcn_tri[k] = len(set(v2[2][:20]) & set(v2[1][0:]))\n",
    "    overlap_percentage_lgcn_tri[k] = overlap_count_lgcn_tri[k] / len(set(v2[1][0:]))\n",
    "    # print(overlap_percentage_lgcn_tri[k])\n",
    "    incresed_percentage[k] = overlap_percentage_lgcn_tri[k] - overlap_percentage_lgcn[k]\n",
    "\n",
    "# 找出increase_percentage最大的100个user\n",
    "sorted_incresed_percentage = sorted(incresed_percentage.items(), key=lambda x: x[1], reverse=True)\n",
    "# sorted_incresed_percentage[:100]\n",
    "# 把这些user写进一个list\n",
    "top_100_incresed_percentage = [k for k, v in sorted_incresed_percentage[:100]]\n",
    "print(top_100_incresed_percentage)"
   ]
  },
  {
   "cell_type": "markdown",
   "metadata": {},
   "source": [
    "### For those newly corrected chosen items, check if they are related with assigned personas;"
   ]
  },
  {
   "cell_type": "code",
   "execution_count": 42,
   "metadata": {},
   "outputs": [],
   "source": [
    "new_correct_items = {}\n",
    "removed_wrong_items = {}\n",
    "\n",
    "for k in top_100_incresed_percentage:\n",
    "    v1 = lgcn_res_sorted_item_name[k]\n",
    "    v2 = lgcn_tri_res_sorted_item_name[k]\n",
    "    new_correct_items[k] = [i for i in v2[2][:20] if i not in v1[2][:20] and i in v2[1]]\n",
    "    removed_wrong_items[k] = [i for i in v1[2][:20] if i not in v2[2][:20] and i not in v1[1]]"
   ]
  },
  {
   "cell_type": "code",
   "execution_count": 43,
   "metadata": {},
   "outputs": [
    {
     "name": "stdout",
     "output_type": "stream",
     "text": [
      "0.8792260599415205\n"
     ]
    }
   ],
   "source": [
    "# new_correct_items\n",
    "# 检查这些new_correct_items里的item被assign的persona，以及有多少item被assign的persona也是这个user的persona\n",
    "persona_related_item_count = {}\n",
    "# new_correct_items_persona_count\n",
    "for k in top_100_incresed_percentage:\n",
    "    # print(f'{k}: {uid2pidx_sorted[k]}')\n",
    "    for i in new_correct_items[k]:\n",
    "        # print(f'{i}: {tidx2pidx_sorted[items_kv[i]]}')\n",
    "        if len(set(tidx2pidx_sorted[items_kv[i]]) & set(uid2pidx_sorted[k])) > 0:\n",
    "            persona_related_item_count[k] = persona_related_item_count.get(k, 0) + 1\n",
    "            persona_related_item_count[k] = persona_related_item_count[k] / len(new_correct_items[k]) # ratio\n",
    "\n",
    "# 算一下平均的ratio\n",
    "average_ratio_related_with_persona = sum(persona_related_item_count.values()) / len(persona_related_item_count)\n",
    "print(average_ratio_related_with_persona)\n",
    "# len(persona_related_item_count)\n",
    "# persona_related_item_count"
   ]
  },
  {
   "cell_type": "code",
   "execution_count": 79,
   "metadata": {},
   "outputs": [],
   "source": [
    "# 把这些new correct对于每个user的item写进json\n",
    "with open(AB_test_dir + 'new_correct_items.json', 'w') as f:\n",
    "    json.dump(new_correct_items, f)"
   ]
  },
  {
   "cell_type": "code",
   "execution_count": null,
   "metadata": {},
   "outputs": [],
   "source": [
    "# removed_wrong_items"
   ]
  },
  {
   "cell_type": "markdown",
   "metadata": {},
   "source": [
    "### Check about top 20 occurred items"
   ]
  },
  {
   "cell_type": "code",
   "execution_count": 68,
   "metadata": {},
   "outputs": [
    {
     "name": "stdout",
     "output_type": "stream",
     "text": [
      "['REGENCY CAKESTAND 3 TIER', 'WHITE HANGING HEART T-LIGHT HOLDER', 'PARTY BUNTING', 'ASSORTED COLOUR BIRD ORNAMENT', 'SET OF 3 CAKE TINS PANTRY DESIGN', 'PACK OF 72 RETROSPOT CAKE CASES', 'JUMBO BAG RED RETROSPOT', \"PAPER CHAIN KIT 50'S CHRISTMAS\", 'NATURAL SLATE HEART CHALKBOARD', 'BAKING SET 9 PIECE RETROSPOT', 'HEART OF WICKER SMALL', 'SPOTTY BUNTING', 'JAM MAKING SET WITH JARS', 'JAM MAKING SET PRINTED', 'LUNCH BAG RED RETROSPOT', 'LUNCH BAG SPACEBOY DESIGN', 'RETROSPOT TEA SET CERAMIC 11 PC', 'HEART OF WICKER LARGE', 'REX CASH+CARRY JUMBO SHOPPER', 'LUNCH BAG CARS BLUE']\n"
     ]
    }
   ],
   "source": [
    "# 从G_item里找出最多的20个item\n",
    "item_count = {}\n",
    "for k in G_item.keys():\n",
    "    item_count[k] = len(G_item[k])\n",
    "sorted_item_count = sorted(item_count.items(), key=lambda x: x[1], reverse=True)\n",
    "# sorted_item_count[:20]\n",
    "# 把最多的20个item写进一个list\n",
    "overall_top_20_item = [k for k, v in sorted_item_count[:20]]\n",
    "# 然后把id转换成name\n",
    "overall_top_20_item_name = [item_names[i] for i in overall_top_20_item]\n",
    "# print(overall_top_20_item_name)"
   ]
  },
  {
   "cell_type": "code",
   "execution_count": 81,
   "metadata": {},
   "outputs": [],
   "source": [
    "# 把这些removed wrong对于每个user的item写进json\n",
    "with open(AB_test_dir + 'removed_wrong_popular_items.json', 'w') as f:\n",
    "    # 如果这些remove_wrong item是最热门的20个item之一，则写进json，否则不写\n",
    "    removed_wrong_items_top_20 = {}\n",
    "    for k in removed_wrong_items.keys():\n",
    "        removed_wrong_items_top_20[k] = [i for i in removed_wrong_items[k] if i in overall_top_20_item_name]\n",
    "    json.dump(removed_wrong_items_top_20, f)"
   ]
  },
  {
   "cell_type": "code",
   "execution_count": 65,
   "metadata": {},
   "outputs": [
    {
     "name": "stdout",
     "output_type": "stream",
     "text": [
      "1192\n",
      "7287\n"
     ]
    }
   ],
   "source": [
    "# 首先检查对于lgcn_res_sorted_item_name的top20预测，有多少正确的item在overall_top_20_item_name里，有多少不正确的item在overall_top_20_item里\n",
    "correct_item_in_top_20_item = {}\n",
    "wrong_item_in_top_20_item = {}\n",
    "# for k in top_100_incresed_percentage:\n",
    "for k in lgcn_res_sorted_item_name.keys():\n",
    "    v1 = lgcn_res_sorted_item_name[k]\n",
    "    correct_item_in_top_20_item[k] = [i for i in v1[2][:20] if i in overall_top_20_item_name and i in v1[1]]\n",
    "    wrong_item_in_top_20_item[k] = [i for i in v1[2][:20] if i in overall_top_20_item_name and i not in v1[1]]\n",
    "\n",
    "# correct_item_in_top_20_item\n",
    "count_correct = 0\n",
    "for k in correct_item_in_top_20_item.keys():\n",
    "    count_correct += len(correct_item_in_top_20_item[k])\n",
    "print(count_correct)\n",
    "\n",
    "# wrong_item_in_top_20_item\n",
    "count_wrong = 0\n",
    "for k in wrong_item_in_top_20_item.keys():\n",
    "    count_wrong += len(wrong_item_in_top_20_item[k])\n",
    "print(count_wrong)"
   ]
  },
  {
   "cell_type": "code",
   "execution_count": 66,
   "metadata": {},
   "outputs": [
    {
     "name": "stdout",
     "output_type": "stream",
     "text": [
      "1111\n",
      "5973\n"
     ]
    }
   ],
   "source": [
    "# 类似的对于lgcn_tri_res_sorted_item_name的top20预测，有多少正确的item在overall_top_20_item_name里，有多少不正确的item在overall_top_20_item里\n",
    "correct_item_in_top_20_item_tri = {}\n",
    "wrong_item_in_top_20_item_tri = {}\n",
    "# for k in top_100_incresed_percentage:\n",
    "for k in lgcn_tri_res_sorted_item_name.keys():\n",
    "    v2 = lgcn_tri_res_sorted_item_name[k]\n",
    "    correct_item_in_top_20_item_tri[k] = [i for i in v2[2][:20] if i in overall_top_20_item_name and i in v2[1]]\n",
    "    wrong_item_in_top_20_item_tri[k] = [i for i in v2[2][:20] if i in overall_top_20_item_name and i not in v2[1]]\n",
    "13\n",
    "# correct_item_in_top_20_item_tri\n",
    "count_correct_tri = 0\n",
    "for k in correct_item_in_top_20_item_tri.keys():\n",
    "    count_correct_tri += len(correct_item_in_top_20_item_tri[k])\n",
    "print(count_correct_tri)\n",
    "# wrong_item_in_top_20_item_tri\n",
    "count_wrong_tri = 0\n",
    "for k in wrong_item_in_top_20_item_tri.keys():\n",
    "    count_wrong_tri += len(wrong_item_in_top_20_item_tri[k])\n",
    "print(count_wrong_tri)"
   ]
  },
  {
   "cell_type": "markdown",
   "metadata": {},
   "source": [
    "### Specific Case Study:"
   ]
  },
  {
   "cell_type": "code",
   "execution_count": 91,
   "metadata": {},
   "outputs": [
    {
     "name": "stdout",
     "output_type": "stream",
     "text": [
      "[1, 3, 9, 14]\n",
      "[3, 14, 10]\n",
      "====================================\n",
      "[3, 2, 4, 5, 6]\n",
      "[2, 7, 12]\n",
      "[14, 7, 4]\n",
      "====================================\n"
     ]
    }
   ],
   "source": [
    "# Part 1: New Correct Items Due to Right Persona\n",
    "\n",
    "# Case 0:\n",
    "# user 572 persona\n",
    "print(uid2pidx_sorted[572]) # [1, 3, 9, 14]\n",
    "# new correct items\n",
    "print(tidx2pidx_sorted[items_kv[\"TEA TIME PARTY BUNTING\"]]) # [3, 14, 10] -> 3, 14\n",
    "# where 3 is \"Seasonal and Festive Decorator\" and 14 is \"Party and Event Planners\"\n",
    "print(\"====================================\")\n",
    "\n",
    "# Case 1:\n",
    "# user 960 persona\n",
    "print(uid2pidx_sorted[960]) # [2, 3, 4, 5, 6]\n",
    "# new correct items\n",
    "print(tidx2pidx_sorted[items_kv[\"PENNY FARTHING BIRTHDAY CARD\"]]) # [2, 7, 12] -> 2\n",
    "print(tidx2pidx_sorted[items_kv[\"CARD WEDDING DAY\"]]) # [14, 7, 4] -> 4\n",
    "# where 2 is \"Vintage and Retro Enthusiast\" and 4 is \"Crafting and DIY Hobbyist\"\n",
    "print(\"====================================\")\n"
   ]
  },
  {
   "cell_type": "code",
   "execution_count": 92,
   "metadata": {},
   "outputs": [
    {
     "name": "stdout",
     "output_type": "stream",
     "text": [
      "[1, 3, 9, 14]\n",
      "[1, 18, 7, 9]\n",
      "[1, 2, 4]\n",
      "====================================\n",
      "[1, 5, 7]\n",
      "[1, 4, 12]\n",
      "====================================\n"
     ]
    }
   ],
   "source": [
    "# Part 2: Wrong Removed Popular Items\n",
    "\n",
    "# Case 0:\n",
    "# user 572 persona\n",
    "print(uid2pidx_sorted[572]) # [1, 3, 9, 14]\n",
    "# removed wrong items\n",
    "print(tidx2pidx_sorted[items_kv[\"ASSORTED COLOUR BIRD ORNAMENT\"]]) # [1, 18, 7, 9] -> 7, 18\n",
    "print(tidx2pidx_sorted[items_kv[\"HEART OF WICKER LARGE\"]]) # [1, 2, 4] -> 2, 4\n",
    "# where 2 is \"Vintage and Retro Enthusiast\", 4 is \"Crafting and DIY Hobbyist\", 7 is \"Child and Family-centric Shopper\" and 18 is \"Animal and Pet Advocates\"\n",
    "print(\"====================================\")\n",
    "\n",
    "# Case 1:\n",
    "# user 479 persona\n",
    "print(uid2pidx_sorted[479]) # [1, 5, 7]\n",
    "# removed wrong items\n",
    "print(tidx2pidx_sorted[items_kv[\"NATURAL SLATE HEART CHALKBOARD\"]]) # [1, 4, 12] -> 5, 7\n",
    "# where 5 is \"Baking and Confectionery Fans\" and 7 is \"Child and Family-centric Shopper\"\n",
    "print(\"====================================\")\n",
    "\n",
    "\n",
    "\n"
   ]
  },
  {
   "cell_type": "code",
   "execution_count": 108,
   "metadata": {},
   "outputs": [],
   "source": [
    "# Part 3: Narrow down a range for user: only select those with 5-10 items in the test set\n",
    "# 选择test set里item数量在5-10之间的user，以及他们在lgcn_res_sorted_item_name和lgcn_tri_res_sorted_item_name里的item，保存为两个json\n",
    "user_item_count = {}\n",
    "for k in lgcn_res_sorted_item_name.keys():\n",
    "    user_item_count[k] = len(lgcn_res_sorted_item_name[k][1])\n",
    "# user_item_count\n",
    "selected_user = [k for k, v in user_item_count.items() if v >= 10 and v <= 10]\n",
    "len(selected_user)\n",
    "\n",
    "selected_lgcn_res_sorted_item_name = {k: lgcn_res_sorted_item_name[k] for k in selected_user}\n",
    "selected_lgcn_tri_res_sorted_item_name = {k: lgcn_tri_res_sorted_item_name[k] for k in selected_user}\n",
    "\n",
    "# 保存到json\n",
    "with open(AB_test_dir + 'selected_lgcn_res_sorted_item_name.json', 'w') as f:\n",
    "    json.dump(selected_lgcn_res_sorted_item_name, f)\n",
    "with open(AB_test_dir + 'selected_lgcn_tri_res_sorted_item_name.json', 'w') as f:\n",
    "    json.dump(selected_lgcn_tri_res_sorted_item_name, f)\n"
   ]
  },
  {
   "cell_type": "code",
   "execution_count": 109,
   "metadata": {},
   "outputs": [],
   "source": [
    "# 看看user一致不一致\n",
    "assert sorted(selected_lgcn_res_sorted_item_name.keys()) == sorted(selected_lgcn_tri_res_sorted_item_name.keys())"
   ]
  },
  {
   "cell_type": "code",
   "execution_count": 110,
   "metadata": {},
   "outputs": [
    {
     "name": "stdout",
     "output_type": "stream",
     "text": [
      "[(2004, 0.3), (231, 0.2), (701, 0.2), (1729, 0.2), (2910, 0.2), (84, 0.19999999999999998), (954, 0.19999999999999998), (2293, 0.10000000000000003), (2455, 0.10000000000000003), (2577, 0.10000000000000003), (59, 0.1), (99, 0.1), (284, 0.1), (356, 0.1), (524, 0.1), (622, 0.1), (689, 0.1), (853, 0.1), (1026, 0.1), (1251, 0.1), (1626, 0.1), (1941, 0.1), (2085, 0.1), (2098, 0.1), (2240, 0.1), (2263, 0.1), (2394, 0.1), (2507, 0.1), (3255, 0.1), (3325, 0.1), (3379, 0.1), (3444, 0.1), (3770, 0.1), (3829, 0.1), (4003, 0.1), (680, 0.09999999999999998), (30, 0.0), (35, 0.0), (97, 0.0), (204, 0.0), (266, 0.0), (279, 0.0), (309, 0.0), (322, 0.0), (371, 0.0), (475, 0.0), (564, 0.0), (699, 0.0), (744, 0.0), (761, 0.0), (789, 0.0), (885, 0.0), (947, 0.0), (950, 0.0), (973, 0.0), (975, 0.0), (983, 0.0), (984, 0.0), (1077, 0.0), (1231, 0.0), (1305, 0.0), (1348, 0.0), (1465, 0.0), (1629, 0.0), (1811, 0.0), (1814, 0.0), (1824, 0.0), (1888, 0.0), (1948, 0.0), (1962, 0.0), (2006, 0.0), (2084, 0.0), (2150, 0.0), (2210, 0.0), (2214, 0.0), (2233, 0.0), (2242, 0.0), (2245, 0.0), (2268, 0.0), (2331, 0.0), (2357, 0.0), (2373, 0.0), (2385, 0.0), (2432, 0.0), (2624, 0.0), (2625, 0.0), (2719, 0.0), (2815, 0.0), (2825, 0.0), (2909, 0.0), (3005, 0.0), (3036, 0.0), (3078, 0.0), (3086, 0.0), (3106, 0.0), (3205, 0.0), (3263, 0.0), (3275, 0.0), (3303, 0.0), (3313, 0.0)]\n"
     ]
    }
   ],
   "source": [
    "# Part 4: 在这些test_list长度为10的case中，找到一个典型的user，对于这个user，看他的pred_list里的top 10，对比lgcn和lgcn_tri，看看有没有new correct items和removed wrong popular items\n",
    "\n",
    "# 首先看看这些user在lgcn和lgcn_tri里的top 10有多少overlap\n",
    "overlap_count_lgcn_10 = {}\n",
    "overlap_percentage_lgcn_10 = {}\n",
    "overlap_count_lgcn_tri_10 = {}\n",
    "overlap_percentage_lgcn_tri_10 = {}\n",
    "incresed_percentage_10 = {}\n",
    "\n",
    "for k in selected_lgcn_res_sorted_item_name.keys():\n",
    "    v1 = selected_lgcn_res_sorted_item_name[k]\n",
    "    v2 = selected_lgcn_tri_res_sorted_item_name[k]\n",
    "    # print(set(v1[2][:20]))\n",
    "    # print(set(v1[1][0:]))\n",
    "    overlap_count_lgcn_10[k] = len(set(v1[2][:10]) & set(v1[1][0:]))\n",
    "    overlap_percentage_lgcn_10[k] = overlap_count_lgcn_10[k] / len(set(v1[1][0:]))\n",
    "    # print(overlap_percentage_lgcn[k])\n",
    "    overlap_count_lgcn_tri_10[k] = len(set(v2[2][:10]) & set(v2[1][0:]))\n",
    "    overlap_percentage_lgcn_tri_10[k] = overlap_count_lgcn_tri_10[k] / len(set(v2[1][0:]))\n",
    "    # print(overlap_percentage_lgcn_tri[k])\n",
    "    incresed_percentage_10[k] = overlap_percentage_lgcn_tri_10[k] - overlap_percentage_lgcn_10[k]\n",
    "\n",
    "# 找出increase_percentage最大的100个user\n",
    "sorted_incresed_percentage_10 = sorted(incresed_percentage_10.items(), key=lambda x: x[1], reverse=True)\n",
    "print(sorted_incresed_percentage_10[:100])\n",
    "\n",
    "# 把这些user写进一个list\n",
    "top_100_incresed_percentage_10 = [k for k, v in sorted_incresed_percentage_10[:100]]\n",
    "# print(top_100_incresed_percentage_10)"
   ]
  },
  {
   "cell_type": "code",
   "execution_count": 148,
   "metadata": {},
   "outputs": [
    {
     "name": "stdout",
     "output_type": "stream",
     "text": [
      "For user 2004, items that he really purchased are:['CHARLOTTE BAG PINK POLKADOT', 'PAPER BUNTING VINTAGE PAISLEY', 'CHERUB HEART DECORATION GOLD', 'LAUREL HEART ANTIQUE SILVER', 'RED HANGING HEART T-LIGHT HOLDER', 'ASSORTED COLOUR T-LIGHT HOLDER', 'VINTAGE SNAP CARDS', 'PAPER CHAIN KIT VINTAGE CHRISTMAS', 'DAISY GARDEN MARKER', 'ZINC FOLKART SLEIGH BELLS']\n",
      "For user 2004, items that LGCN recommended are:['WOODEN HEART CHRISTMAS SCANDINAVIAN', 'LUNCH BAG  BLACK SKULL.', 'CHOCOLATE HOT WATER BOTTLE', 'JUMBO BAG RED RETROSPOT', 'HOMEMADE JAM SCENTED CANDLES', 'WOODEN STAR CHRISTMAS SCANDINAVIAN', 'WOODEN TREE CHRISTMAS SCANDINAVIAN', 'Next Day Carriage', 'PACK OF 72 SKULL CAKE CASES', 'STRAWBERRY CERAMIC TRINKET BOX']\n",
      "For user 2004, items that LGCN_tri recommended are:['LAUREL HEART ANTIQUE SILVER', 'CHERUB HEART DECORATION GOLD', 'CHOCOLATE HOT WATER BOTTLE', 'LAUREL STAR ANTIQUE SILVER', 'SWISS ROLL TOWEL PINK  SPOTS', 'LAUREL STAR ANTIQUE GOLD', 'WHITE ROCKING HORSE HAND PAINTED', 'RED HANGING HEART T-LIGHT HOLDER', 'COLOUR GLASS. STAR T-LIGHT HOLDER', 'PACK OF 72 SKULL CAKE CASES']\n",
      "And user 2004 has persona: [5, 3, 9, 14, 8, 7]\n",
      "For user 2004, new correct items are:['LAUREL HEART ANTIQUE SILVER', 'CHERUB HEART DECORATION GOLD', 'RED HANGING HEART T-LIGHT HOLDER']\n",
      "For user 2004, removed wrong popular items are:['JUMBO BAG RED RETROSPOT']\n",
      "NEW CORRECT ITEMS:\n",
      "Item: LAUREL HEART ANTIQUE SILVER: [2, 16, 7]\n",
      "And this item is related with user 2004's persona: 'Child and Family-centric Shopper'\n",
      "Item: CHERUB HEART DECORATION GOLD: [1, 3, 2, 7]\n",
      "And this item is related with user 2004's persona: 'Seasonal and Festive Decorator' and 'Child and Family-centric Shopper'\n",
      "Item: RED HANGING HEART T-LIGHT HOLDER: [1, 2, 8, 3]\n",
      "And this item is related with user 2004's persona: 'Seasonal and Festive Decorator' and 'Gardening Lover'\n",
      "REMOVED WRONG ITEMS:\n",
      "Item: JUMBO BAG RED RETROSPOT: [2, 7, 16]\n",
      "And this item is related with user 2004's persona: 'Vintage and Retro Enthusiast' and 'Art and Design Admirer'\n",
      "====================================\n"
     ]
    }
   ],
   "source": [
    "# Part 5: 具体看看2004这个user和其推荐情况\n",
    "\n",
    "# 打印2004这个user的test_list\n",
    "print(\"For user 2004, items that he really purchased are:\" + str(selected_lgcn_res_sorted_item_name[2004][1]))\n",
    "# 再打印2004这个user的pred_list（使用LGCN的top 10）\n",
    "print(\"For user 2004, items that LGCN recommended are:\" + str(selected_lgcn_res_sorted_item_name[2004][2][:10]))\n",
    "# 再打印2004这个user的pred_list（使用LGCN_tri的top 10）\n",
    "print(\"For user 2004, items that LGCN_tri recommended are:\" + str(selected_lgcn_tri_res_sorted_item_name[2004][2][:10]))\n",
    "\n",
    "\n",
    "# user 2004 persona\n",
    "print(\"And user 2004 has persona: \" + str(uid2pidx_sorted[2004])) # [5, 3, 9, 14, 8, 7]\n",
    "# where 5 is \"Baking and Confectionery Fans\", 3 is \"Seasonal and Festive Decorator\";\n",
    "# 7 is \"Child and Family-centric Shopper\", 8 is \"Gardening Lover\", \n",
    "# 9 is \"Comfort and Coziness Seeker\" and 14 is \"Party and Event Planners\"\n",
    "\n",
    "# 首先找出对于2004有哪些new correct items\n",
    "new_correct_items_2004 = [i for i in selected_lgcn_tri_res_sorted_item_name[2004][2][:10] if i not in selected_lgcn_res_sorted_item_name[2004][2][:10] and i in selected_lgcn_tri_res_sorted_item_name[2004][1][:10]]\n",
    "print(\"For user 2004, new correct items are:\" + str(new_correct_items_2004))\n",
    "# 再找出对于2004有哪些removed wrong popular items\n",
    "removed_wrong_items_2004 = [i for i in selected_lgcn_res_sorted_item_name[2004][2][:10] if i not in selected_lgcn_tri_res_sorted_item_name[2004][2][:10] and i not in selected_lgcn_res_sorted_item_name[2004][1][:10] and i in overall_top_20_item_name]\n",
    "print(\"For user 2004, removed wrong popular items are:\" + str(removed_wrong_items_2004))\n",
    "\n",
    "# new correct items\n",
    "print(\"NEW CORRECT ITEMS:\")\n",
    "print(\"Item: LAUREL HEART ANTIQUE SILVER: \" + str(tidx2pidx_sorted[items_kv[\"LAUREL HEART ANTIQUE SILVER\"]])) # [2, 16, 7] -> 7\n",
    "print(\"And this item is related with user 2004's persona: 'Child and Family-centric Shopper'\") \n",
    "print(\"Item: CHERUB HEART DECORATION GOLD: \" + str(tidx2pidx_sorted[items_kv[\"CHERUB HEART DECORATION GOLD\"]])) # [1, 3, 2, 7] -> 3, 7\n",
    "print(\"And this item is related with user 2004's persona: 'Seasonal and Festive Decorator' and 'Child and Family-centric Shopper'\")\n",
    "print(\"Item: RED HANGING HEART T-LIGHT HOLDER: \" + str(tidx2pidx_sorted[items_kv[\"RED HANGING HEART T-LIGHT HOLDER\"]])) # [1, 2, 8, 3] -> 3, 8\n",
    "print(\"And this item is related with user 2004's persona: 'Seasonal and Festive Decorator' and 'Gardening Lover'\")\n",
    "# where 3 is \"Seasonal and Festive Decorator\" and 7 is \"Child and Family-centric Shopper\" and 8 is \"Gardening Lover\"\n",
    "\n",
    "# removed wrong items\n",
    "print(\"REMOVED WRONG ITEMS:\")\n",
    "print(\"Item: JUMBO BAG RED RETROSPOT: \" + str(tidx2pidx_sorted[items_kv[\"JUMBO BAG RED RETROSPOT\"]])) # [2, 7, 16] -> 2, 16\n",
    "print(\"And this item is related with user 2004's persona: 'Vintage and Retro Enthusiast' and 'Art and Design Admirer'\")\n",
    "# where 2 is \"Vintage and Retro Enthusiast\" and 16 is \"Art and Design Admirers\"\n",
    "print(\"====================================\")\n"
   ]
  },
  {
   "cell_type": "code",
   "execution_count": 149,
   "metadata": {},
   "outputs": [
    {
     "name": "stdout",
     "output_type": "stream",
     "text": [
      "For user 701, items that he really purchased are:['WOODEN BOX OF DOMINOES', 'CHRISTMAS CRAFT WHITE FAIRY', '3 STRIPEY MICE FELTCRAFT', 'PAPER BUNTING VINTAGE PAISLEY', 'PINK FLORAL FELTCRAFT SHOULDER BAG', 'FELTCRAFT PRINCESS OLIVIA DOLL', 'PACK OF 12 SUKI TISSUES', 'TRADITIONAL WOODEN SKIPPING ROPE', 'FELTCRAFT DOLL EMILY', 'WORLD WAR 2 GLIDERS ASSTD DESIGNS']\n",
      "For user 701, items that LGCN recommended are:['PINK CREAM FELT CRAFT TRINKET BOX', '3 STRIPEY MICE FELTCRAFT', 'PINK BLUE FELT CRAFT TRINKET BOX', 'REGENCY CAKESTAND 3 TIER', 'FELTCRAFT DOLL MOLLY', 'JAM MAKING SET WITH JARS', 'PARTY BUNTING', 'FELTCRAFT DOLL EMILY', 'WHITE HANGING HEART T-LIGHT HOLDER', 'TRADITIONAL KNITTING NANCY']\n",
      "For user 701, items that LGCN_tri recommended are:['PINK CREAM FELT CRAFT TRINKET BOX', 'PINK BLUE FELT CRAFT TRINKET BOX', 'PARTY BUNTING', 'FELTCRAFT DOLL MOLLY', '3 STRIPEY MICE FELTCRAFT', 'SPOTTY BUNTING', 'PINK FLORAL FELTCRAFT SHOULDER BAG', 'FELTCRAFT DOLL EMILY', 'FELTCRAFT PRINCESS OLIVIA DOLL', 'PLAYING CARDS KEEP CALM & CARRY ON']\n",
      "And user 701 has persona: [3, 5, 4, 2, 1, 9, 7]\n",
      "For user 701, new correct items are:['PINK FLORAL FELTCRAFT SHOULDER BAG', 'FELTCRAFT PRINCESS OLIVIA DOLL']\n",
      "For user 701, removed wrong popular items are:['REGENCY CAKESTAND 3 TIER', 'JAM MAKING SET WITH JARS', 'WHITE HANGING HEART T-LIGHT HOLDER']\n",
      "NEW CORRECT ITEMS:\n",
      "Item: PINK FLORAL FELTCRAFT SHOULDER BAG: [16, 4, 7]\n",
      "And this item is related with user 701's persona: 'Crafting and DIY Hobbyist' and 'Collector of Unique and Novelty Items'\n",
      "Item: FELTCRAFT PRINCESS OLIVIA DOLL: [4, 6, 7]\n",
      "And this item is related with user 701's persona: 'Crafting and DIY Hobbyist' and 'Collector of Unique and Novelty Items'\n",
      "REMOVED WRONG ITEMS:\n",
      "Item: REGENCY CAKESTAND 3 TIER: [5, 1, 2, 0, 10]\n",
      "And this item is related with user 701's persona: 'Kitchen and Culinary Enthusiast' and 'Tea and Coffee Lover'\n",
      "Item: JAM MAKING SET WITH JARS: [4, 5, 0, 13]\n",
      "And this item is related with user 701's persona: 'Kitchen and Culinary Enthusiast' and 'Eco-friendly and Sustainable Goods Supporter'\n",
      "====================================\n"
     ]
    }
   ],
   "source": [
    "# 类似的看看701这个user和其推荐情况\n",
    "\n",
    "# 打印701这个user的test_list\n",
    "print(\"For user 701, items that he really purchased are:\" + str(selected_lgcn_res_sorted_item_name[701][1]))\n",
    "# 再打印701这个user的pred_list（使用LGCN的top 10）\n",
    "print(\"For user 701, items that LGCN recommended are:\" + str(selected_lgcn_res_sorted_item_name[701][2][:10]))\n",
    "# 再打印701这个user的pred_list（使用LGCN_tri的top 10）\n",
    "print(\"For user 701, items that LGCN_tri recommended are:\" + str(selected_lgcn_tri_res_sorted_item_name[701][2][:10]))\n",
    "\n",
    "# user 701 persona\n",
    "print(\"And user 701 has persona: \" + str(uid2pidx_sorted[701])) # [3, 5, 4, 2, 1, 9, 7]\n",
    "\n",
    "# 首先找出对于701有哪些new correct items\n",
    "new_correct_items_701 = [i for i in selected_lgcn_tri_res_sorted_item_name[701][2][:10] if i not in selected_lgcn_res_sorted_item_name[701][2][:10] and i in selected_lgcn_tri_res_sorted_item_name[701][1][:10]]\n",
    "print(\"For user 701, new correct items are:\" + str(new_correct_items_701))\n",
    "# 再找出对于701有哪些removed wrong popular items\n",
    "removed_wrong_items_701 = [i for i in selected_lgcn_res_sorted_item_name[701][2][:10] if i not in selected_lgcn_tri_res_sorted_item_name[701][2][:10] and i not in selected_lgcn_res_sorted_item_name[701][1][:10] and i in overall_top_20_item_name]\n",
    "print(\"For user 701, removed wrong popular items are:\" + str(removed_wrong_items_701))\n",
    "\n",
    "# new correct items\n",
    "print(\"NEW CORRECT ITEMS:\")\n",
    "print(\"Item: PINK FLORAL FELTCRAFT SHOULDER BAG: \" + str(tidx2pidx_sorted[items_kv[\"PINK FLORAL FELTCRAFT SHOULDER BAG\"]])) # [16, 4, 7] -> 4, 7\n",
    "print(\"And this item is related with user 701's persona: 'Crafting and DIY Hobbyist' and 'Collector of Unique and Novelty Items'\")\n",
    "print(\"Item: FELTCRAFT PRINCESS OLIVIA DOLL: \" + str(tidx2pidx_sorted[items_kv[\"FELTCRAFT PRINCESS OLIVIA DOLL\"]])) # [4, 7, 6] -> 4, 7\n",
    "print(\"And this item is related with user 701's persona: 'Crafting and DIY Hobbyist' and 'Collector of Unique and Novelty Items'\")\n",
    "\n",
    "# removed wrong items\n",
    "print(\"REMOVED WRONG ITEMS:\")\n",
    "print(\"Item: REGENCY CAKESTAND 3 TIER: \" + str(tidx2pidx_sorted[items_kv[\"REGENCY CAKESTAND 3 TIER\"]])) # [5, 1, 2, 0, 10] -> 0, 10\n",
    "print(\"And this item is related with user 701's persona: 'Kitchen and Culinary Enthusiast' and 'Tea and Coffee Lover'\")\n",
    "print(\"Item: JAM MAKING SET WITH JARS: \" + str(tidx2pidx_sorted[items_kv[\"JAM MAKING SET WITH JARS\"]])) # [4, 5, 0, 13] -> 0, 13\n",
    "print(\"And this item is related with user 701's persona: 'Kitchen and Culinary Enthusiast' and 'Eco-friendly and Sustainable Goods Supporter'\")\n",
    "# print(\"Item: WHITE HANGING HEART T-LIGHT HOLDER: \" + str(tidx2pidx_sorted[items_kv[\"WHITE HANGING HEART T-LIGHT HOLDER\"]])) # [1, 2, 3] -> None\n",
    "# where 0 is \"Kitchen and Culinary Enthusiast\" and 10 is \"Tea and Coffee Lover\" and 13 is \"Eco-friendly and Sustainable Goods Supporter\"\n",
    "\n",
    "print(\"====================================\")\n"
   ]
  },
  {
   "cell_type": "code",
   "execution_count": 246,
   "metadata": {},
   "outputs": [
    {
     "name": "stdout",
     "output_type": "stream",
     "text": [
      "For item 'PINK FLORAL FELTCRAFT SHOULDER BAG':\n",
      "1062\n",
      "The popularity of this item is: 138\n",
      "(1062, 138)\n",
      "====================================\n",
      "For item 'FELTCRAFT PRINCESS OLIVIA DOLL':\n",
      "377\n",
      "The popularity of this item is: 179\n",
      "(377, 179)\n",
      "====================================\n",
      "For item 'REGENCY CAKESTAND 3 TIER':\n",
      "The popularity of this item is: 869\n",
      "====================================\n",
      "For item 'JAM MAKING SET WITH JARS':\n",
      "The popularity of this item is: 562\n",
      "====================================\n",
      "For item 'WHITE HANGING HEART T-LIGHT HOLDER':\n",
      "The popularity of this item is: 844\n",
      "====================================\n",
      "User 701 and item 'PINK FLORAL FELTCRAFT SHOULDER BAG' are connected.\n",
      "====================================\n",
      "User 701 and item 'FELTCRAFT PRINCESS OLIVIA DOLL' are connected.\n",
      "====================================\n",
      "1062 377\n"
     ]
    }
   ],
   "source": [
    "# 1. 这两个item的popularity在所有item中分别处于什么位置：首先把这两个item_name对应到index，然后在sorted_item_count里找到这两个item的位置\n",
    "print(\"For item 'PINK FLORAL FELTCRAFT SHOULDER BAG':\")\n",
    "print(items_kv[\"PINK FLORAL FELTCRAFT SHOULDER BAG\"])\n",
    "# print(item_count[items_kv[\"PINK FLORAL FELTCRAFT SHOULDER BAG\"]])\n",
    "print(\"The popularity of this item is: \" + str(item_count[items_kv[\"PINK FLORAL FELTCRAFT SHOULDER BAG\"]]))\n",
    "print(sorted_item_count[601])\n",
    "print(\"====================================\")\n",
    "\n",
    "print(\"For item 'FELTCRAFT PRINCESS OLIVIA DOLL':\")\n",
    "print(items_kv[\"FELTCRAFT PRINCESS OLIVIA DOLL\"])\n",
    "# print(item_count[items_kv[\"FELTCRAFT PRINCESS OLIVIA DOLL\"]])\n",
    "print(\"The popularity of this item is: \" + str(item_count[items_kv[\"FELTCRAFT PRINCESS OLIVIA DOLL\"]]))\n",
    "print(sorted_item_count[379])\n",
    "print(\"====================================\")\n",
    "\n",
    "\n",
    "# print(overall_top_20_item_name)\n",
    "# print(\"====================================\")\n",
    "\n",
    "# For original recommended popular 3 items:['REGENCY CAKESTAND 3 TIER', 'JAM MAKING SET WITH JARS', 'WHITE HANGING HEART T-LIGHT HOLDER']\n",
    "print(\"For item 'REGENCY CAKESTAND 3 TIER':\")\n",
    "# print(items_kv[\"REGENCY CAKESTAND 3 TIER\"])\n",
    "# print(sorted_item_count[items_kv[\"REGENCY CAKESTAND 3 TIER\"]])\n",
    "print(\"The popularity of this item is: \" + str(item_count[items_kv[\"REGENCY CAKESTAND 3 TIER\"]]))\n",
    "print(\"====================================\")\n",
    "\n",
    "\n",
    "print(\"For item 'JAM MAKING SET WITH JARS':\")\n",
    "# print(items_kv[\"JAM MAKING SET WITH JARS\"])\n",
    "# print(sorted_item_count[items_kv[\"JAM MAKING SET WITH JARS\"]])\n",
    "print(\"The popularity of this item is: \" + str(item_count[items_kv[\"JAM MAKING SET WITH JARS\"]]))\n",
    "print(\"====================================\")\n",
    "\n",
    "\n",
    "print(\"For item 'WHITE HANGING HEART T-LIGHT HOLDER':\")\n",
    "# print(items_kv[\"WHITE HANGING HEART T-LIGHT HOLDER\"])\n",
    "# print(sorted_item_count[items_kv[\"WHITE HANGING HEART T-LIGHT HOLDER\"]])\n",
    "print(\"The popularity of this item is: \" + str(item_count[items_kv[\"WHITE HANGING HEART T-LIGHT HOLDER\"]]))\n",
    "print(\"====================================\")\n",
    "\n",
    "\n",
    "# user 701\n",
    "user_index = 701\n",
    "# item 'PINK FLORAL FELTCRAFT SHOULDER BAG'\n",
    "item_index = items_kv[\"PINK FLORAL FELTCRAFT SHOULDER BAG\"]\n",
    "# item 'FELTCRAFT PRINCESS OLIVIA DOLL'\n",
    "item_index_2 = items_kv[\"FELTCRAFT PRINCESS OLIVIA DOLL\"]\n",
    "\n",
    "# user 701 <-> item 'PINK FLORAL FELTCRAFT SHOULDER BAG'\n",
    "if G_user.get(user_index) is not None:\n",
    "    if item_index in G_user[user_index]:\n",
    "        print(\"User 701 and item 'PINK FLORAL FELTCRAFT SHOULDER BAG' are connected.\")\n",
    "    else:\n",
    "        print(\"User 701 and item 'PINK FLORAL FELTCRAFT SHOULDER BAG' are not connected.\")\n",
    "print(\"====================================\")\n",
    "\n",
    "# user 701 <-> item 'FELTCRAFT PRINCESS OLIVIA DOLL'\n",
    "if G_user.get(user_index) is not None:\n",
    "    if item_index_2 in G_user[user_index]:\n",
    "        print(\"User 701 and item 'FELTCRAFT PRINCESS OLIVIA DOLL' are connected.\")\n",
    "    else:\n",
    "        print(\"User 701 and item 'FELTCRAFT PRINCESS OLIVIA DOLL' are not connected.\")\n",
    "print(\"====================================\")\n",
    "\n",
    "# 在train的graph里找到这两个item的连接的user，看有几跳\n",
    "with open('dataset/MBA/tri_graph_uidx2tidx_train.json', 'r') as f:\n",
    "    uidx2tidx_train = json.load(f)\n",
    "\n",
    "print(item_index, item_index_2)\n",
    "\n",
    "\n"
   ]
  },
  {
   "cell_type": "code",
   "execution_count": 250,
   "metadata": {},
   "outputs": [
    {
     "name": "stdout",
     "output_type": "stream",
     "text": [
      "User 701 and item 'PINK FLORAL FELTCRAFT SHOULDER BAG' are not connected.\n",
      "====================================\n",
      "User 701 and item 'FELTCRAFT PRINCESS OLIVIA DOLL' are not connected.\n",
      "====================================\n",
      "User 701 and item 'PINK FLORAL FELTCRAFT SHOULDER BAG' and 'FELTCRAFT PRINCESS OLIVIA DOLL' are connected through another user.\n",
      "And there are 758 users that connect them.\n"
     ]
    }
   ],
   "source": [
    "# 首先检查在uidx2tidx_train里，对于用户701，这两个item是否有连接\n",
    "if uidx2tidx_train.get(str(user_index)) is not None:\n",
    "    if item_index in uidx2tidx_train[str(user_index)]:\n",
    "        print(\"User 701 and item 'PINK FLORAL FELTCRAFT SHOULDER BAG' are connected.\")\n",
    "    else:\n",
    "        print(\"User 701 and item 'PINK FLORAL FELTCRAFT SHOULDER BAG' are not connected.\")\n",
    "print(\"====================================\")\n",
    "\n",
    "if uidx2tidx_train.get(str(user_index)) is not None:\n",
    "    if item_index_2 in uidx2tidx_train[str(user_index)]:\n",
    "        print(\"User 701 and item 'FELTCRAFT PRINCESS OLIVIA DOLL' are connected.\")\n",
    "    else:\n",
    "        print(\"User 701 and item 'FELTCRAFT PRINCESS OLIVIA DOLL' are not connected.\")\n",
    "print(\"====================================\")\n",
    "\n",
    "# 但是可以检查uidx2tidx，是否在701的item里有别的item，这个item连接到另一个user，然后另一个user的item里有这两个item\n",
    "items_for_701 = uidx2tidx_train[str(user_index)]\n",
    "num_of_connection_user = 0\n",
    "\n",
    "for item in items_for_701:\n",
    "    for user in uidx2tidx_train.keys():\n",
    "        if user != str(user_index):\n",
    "            if item in uidx2tidx_train[user]:\n",
    "                if item_index in uidx2tidx_train[user]: # and item_index_2 in uidx2tidx_train[user]:\n",
    "                    # print(\"User 701 and item 'PINK FLORAL FELTCRAFT SHOULDER BAG' and 'FELTCRAFT PRINCESS OLIVIA DOLL' are connected through another user.\")\n",
    "                    # print(\"And this user is: \" + str(user))\n",
    "                    num_of_connection_user += 1\n",
    "\n",
    "print(\"User 701 and item 'PINK FLORAL FELTCRAFT SHOULDER BAG' and 'FELTCRAFT PRINCESS OLIVIA DOLL' are connected through another user.\")\n",
    "print(\"And there are \" + str(num_of_connection_user) + \" users that connect them.\")\n"
   ]
  },
  {
   "cell_type": "code",
   "execution_count": 253,
   "metadata": {},
   "outputs": [
    {
     "name": "stdout",
     "output_type": "stream",
     "text": [
      "User 701 and item 'REGENCY CAKESTAND 3 TIER' are not connected.\n",
      "====================================\n",
      "User 701 and item 'JAM MAKING SET WITH JARS' are not connected.\n",
      "====================================\n",
      "User 701 and item 'WHITE HANGING HEART T-LIGHT HOLDER' are not connected.\n",
      "====================================\n",
      "User 701 and item 'REGENCY CAKESTAND 3 TIER' and 'JAM MAKING SET WITH JARS' and 'WHITE HANGING HEART T-LIGHT HOLDER' are connected through another user.\n",
      "And there are 1878 users that connect them.\n"
     ]
    }
   ],
   "source": [
    "wrong_item_index_1 = items_kv[\"REGENCY CAKESTAND 3 TIER\"]\n",
    "wrong_item_index_2 = items_kv[\"JAM MAKING SET WITH JARS\"]\n",
    "wrong_item_index_3 = items_kv[\"WHITE HANGING HEART T-LIGHT HOLDER\"]\n",
    "\n",
    "# 再检查wrong item是不是和user 701有连接\n",
    "if uidx2tidx_train.get(str(user_index)) is not None:\n",
    "    if wrong_item_index_1 in uidx2tidx_train[str(user_index)]:\n",
    "        print(\"User 701 and item 'REGENCY CAKESTAND 3 TIER' are connected.\")\n",
    "    else:\n",
    "        print(\"User 701 and item 'REGENCY CAKESTAND 3 TIER' are not connected.\")\n",
    "print(\"====================================\")\n",
    "\n",
    "if uidx2tidx_train.get(str(user_index)) is not None:\n",
    "    if wrong_item_index_2 in uidx2tidx_train[str(user_index)]:\n",
    "        print(\"User 701 and item 'JAM MAKING SET WITH JARS' are connected.\")\n",
    "    else:\n",
    "        print(\"User 701 and item 'JAM MAKING SET WITH JARS' are not connected.\")\n",
    "print(\"====================================\")\n",
    "\n",
    "if uidx2tidx_train.get(str(user_index)) is not None:\n",
    "    if wrong_item_index_3 in uidx2tidx_train[str(user_index)]:\n",
    "        print(\"User 701 and item 'WHITE HANGING HEART T-LIGHT HOLDER' are connected.\")\n",
    "    else:\n",
    "        print(\"User 701 and item 'WHITE HANGING HEART T-LIGHT HOLDER' are not connected.\")\n",
    "print(\"====================================\")\n",
    "\n",
    "# 但是可以检查uidx2tidx，是否在701的item里有别的item，这个item连接到另一个user，然后另一个user的item里有这三个错误item\n",
    "items_for_701 = uidx2tidx_train[str(user_index)]\n",
    "num_of_connection_user_wrong = 0\n",
    "\n",
    "for item in items_for_701:\n",
    "    for user in uidx2tidx_train.keys():\n",
    "        if user != str(user_index):\n",
    "            if item in uidx2tidx_train[user]:\n",
    "                if wrong_item_index_3 in uidx2tidx_train[user]: # and wrong_item_index_2 in uidx2tidx_train[user] and wrong_item_index_3 in uidx2tidx_train[user]:\n",
    "                    # print(\"User 701 and item 'REGENCY CAKESTAND 3 TIER' and 'JAM MAKING SET WITH JARS' and 'WHITE HANGING HEART T-LIGHT HOLDER' are connected through another user.\")\n",
    "                    # print(\"And this user is: \" + str(user))\n",
    "                    num_of_connection_user_wrong += 1\n",
    "\n",
    "print(\"User 701 and item 'REGENCY CAKESTAND 3 TIER' and 'JAM MAKING SET WITH JARS' and 'WHITE HANGING HEART T-LIGHT HOLDER' are connected through another user.\")\n",
    "print(\"And there are \" + str(num_of_connection_user_wrong) + \" users that connect them.\")"
   ]
  },
  {
   "cell_type": "code",
   "execution_count": 255,
   "metadata": {},
   "outputs": [
    {
     "name": "stdout",
     "output_type": "stream",
     "text": [
      "13308\n"
     ]
    }
   ],
   "source": [
    "# uidx为701的user的uid\n",
    "for user in user_ids_kv.keys():\n",
    "    if user_ids_kv[user] == 701:\n",
    "        print(user)\n",
    "        break"
   ]
  }
 ],
 "metadata": {
  "kernelspec": {
   "display_name": "dis-llm",
   "language": "python",
   "name": "dis-llm"
  },
  "language_info": {
   "codemirror_mode": {
    "name": "ipython",
    "version": 3
   },
   "file_extension": ".py",
   "mimetype": "text/x-python",
   "name": "python",
   "nbconvert_exporter": "python",
   "pygments_lexer": "ipython3",
   "version": "3.11.7"
  }
 },
 "nbformat": 4,
 "nbformat_minor": 2
}
