{
 "cells": [
  {
   "cell_type": "markdown",
   "metadata": {},
   "source": [
    "## AB Test: Check how persona has effect on rec sys"
   ]
  },
  {
   "cell_type": "code",
   "execution_count": 1,
   "metadata": {},
   "outputs": [],
   "source": [
    "# builtin\n",
    "import importlib\n",
    "# internal\n",
    "import read_data\n",
    "import train_model\n",
    "import params\n",
    "from tqdm.contrib.concurrent import process_map\n",
    "# external\n",
    "import pandas as pd\n",
    "import numpy as np\n",
    "import matplotlib.pyplot as plt\n",
    "import json\n",
    "import os"
   ]
  },
  {
   "cell_type": "markdown",
   "metadata": {},
   "source": [
    "### Check the item name recommend to each user"
   ]
  },
  {
   "cell_type": "code",
   "execution_count": 2,
   "metadata": {},
   "outputs": [],
   "source": [
    "res_dir = \"experiment_result/Instacart/\"\n",
    "lgcn_dir = res_dir + \"LGCN/\"\n",
    "tri_lgcn_dir = res_dir + \"LGCN_tri/\"\n",
    "tri_lgcn_approach_dir = res_dir + \"LGCN_tri_approach/\"\n",
    "AB_test_dir = res_dir + \"AB_test/\""
   ]
  },
  {
   "cell_type": "code",
   "execution_count": 3,
   "metadata": {},
   "outputs": [],
   "source": [
    "# load Instacart_LGCN_result.json and Instacart_LGCN_tri_result.json\n",
    "with open(AB_test_dir + 'Instacart_LGCN_result_20620.json', 'r') as f:\n",
    "    lgcn_res = json.load(f)\n",
    "with open(AB_test_dir + 'Instacart_LGCN_tri_result_20620.json', 'r') as f:\n",
    "    lgcn_tri_res = json.load(f)"
   ]
  },
  {
   "cell_type": "code",
   "execution_count": 4,
   "metadata": {},
   "outputs": [
    {
     "data": {
      "text/plain": [
       "(20593, 20593)"
      ]
     },
     "execution_count": 4,
     "metadata": {},
     "output_type": "execute_result"
    }
   ],
   "source": [
    "len(lgcn_res), len(lgcn_tri_res)"
   ]
  },
  {
   "cell_type": "code",
   "execution_count": 6,
   "metadata": {},
   "outputs": [],
   "source": [
    "# 把json按user_id的int排序，并检查是否一致\n",
    "lgcn_res_sorted = {int(k): v for k,v in lgcn_res.items()}\n",
    "lgcn_tri_res_sorted = {int(k): v for k,v in lgcn_tri_res.items()}\n",
    "assert sorted(lgcn_res.keys()) == sorted(lgcn_tri_res.keys())"
   ]
  },
  {
   "cell_type": "code",
   "execution_count": 7,
   "metadata": {},
   "outputs": [],
   "source": [
    "list_empty = []\n",
    "for i in range(1, 20620):\n",
    "    if i not in lgcn_res_sorted:\n",
    "        list_empty.append(i)\n",
    "# 导入tri_graph_uid2tidx_valid.json，检查list_empty里的user_id在这个json里对应的value是否为空\n",
    "import json\n",
    "with open('dataset/Instacart/tri_graph_uidx2tidx_valid.json', 'r') as f:\n",
    "    uid2tidx = json.load(f)\n",
    "# 检查list_empty里的user_id在uid2tidx里对应的value是否都为空\n",
    "for i in list_empty:\n",
    "    assert uid2tidx[str(i)] == []\n"
   ]
  },
  {
   "cell_type": "code",
   "execution_count": 62,
   "metadata": {},
   "outputs": [],
   "source": [
    "import pandas as pd\n",
    "import numpy as np\n",
    "from tqdm import tqdm\n",
    "\n",
    "def insta_load_data(ds_path=\"dataset/Instacart/10%_sampled_insta_df.csv\", debug=False):\n",
    "    # -> [Instacart_df, user_ids, user_num, user_ids_kv, item_names, item_num, items_kv, G_user, G_item]\n",
    "    \n",
    "    print(f'Loading instacart dataset from path:{ds_path}')\n",
    "    \n",
    "    ## load dataset and basic clean\n",
    "    insta_df = pd.read_csv(ds_path)\n",
    "    if debug: print(insta_df.head())\n",
    "    # clean nan rows\n",
    "    if insta_df.isna().sum().sum() > 0:\n",
    "        print('all nan eliminated')\n",
    "        insta_df = insta_df.dropna()\n",
    "    # transfer types\n",
    "    insta_df['product_id'] = insta_df['product_id'].astype('int32')\n",
    "    insta_df['user_id'] = insta_df['user_id'].astype('int32')\n",
    "    insta_df['product_name'] = insta_df['product_name'].astype('string')\n",
    "\n",
    "    ## Identifications\n",
    "    # for user nodes\n",
    "    user_ids = insta_df['user_id'].unique()\n",
    "    user_num = len(user_ids)\n",
    "    print(f'totally {user_num} unique users')\n",
    "    user_ids.sort()\n",
    "    user_ids_kv = {}\n",
    "    for ui in range(user_num):\n",
    "        user_ids_kv[user_ids[ui]] = ui\n",
    "    # for item nodes\n",
    "    item_names = insta_df['product_name'].unique()\n",
    "    item_num = len(item_names)\n",
    "    print(f'totally {item_num} unique items')\n",
    "    # item_names.sort()\n",
    "    items_kv = {}\n",
    "    for ii in range(item_num):\n",
    "        items_kv[item_names[ii]] = ii\n",
    "\n",
    "    ## construct the bi-partite graph\n",
    "    G_user = {} # {uidx: [tidx,]}\n",
    "    G_item = {} # {tidx: [uidx,]}\n",
    "\n",
    "    for index,row in tqdm(insta_df.iterrows()):\n",
    "        user_index = user_ids_kv[row['user_id']]\n",
    "        item_index = items_kv[row['product_name']]\n",
    "        \n",
    "        # update user side\n",
    "        if G_user.get(user_index) is None:\n",
    "            G_user[user_index] = {item_index}\n",
    "        else:\n",
    "            G_user[user_index].update([item_index])\n",
    "        \n",
    "        # update item side\n",
    "        if G_item.get(item_index) is None:\n",
    "            G_item[item_index] = {user_index}\n",
    "        else:\n",
    "            G_item[item_index].update([user_index])\n",
    "\n",
    "    assert len(G_item.keys()) == item_num and len(G_user.keys()) == user_num\n",
    "\n",
    "    return insta_df, user_ids, user_num, user_ids_kv, item_names, item_num, items_kv, G_user, G_item"
   ]
  },
  {
   "cell_type": "code",
   "execution_count": 63,
   "metadata": {},
   "outputs": [
    {
     "name": "stdout",
     "output_type": "stream",
     "text": [
      "Loading instacart dataset from path:dataset/Instacart/10%_sampled_insta_df.csv\n",
      "totally 20620 unique users\n",
      "totally 41521 unique items\n"
     ]
    },
    {
     "name": "stderr",
     "output_type": "stream",
     "text": [
      "3259469it [00:41, 77977.13it/s]\n"
     ]
    }
   ],
   "source": [
    "# load dataset\n",
    "ds_path = \"dataset/Instacart/10%_sampled_insta_df.csv\"\n",
    "[insta_df, user_ids, user_num, user_ids_kv, item_names, item_num, items_kv, G_user, G_item] = insta_load_data(ds_path)\n",
    "\n",
    "assert len(G_item.keys()) == item_num and len(G_user.keys()) == user_num"
   ]
  },
  {
   "cell_type": "code",
   "execution_count": 64,
   "metadata": {},
   "outputs": [
    {
     "data": {
      "text/plain": [
       "'Country Stand Juice, Medium Pulp'"
      ]
     },
     "execution_count": 64,
     "metadata": {},
     "output_type": "execute_result"
    }
   ],
   "source": [
    "item_names[93]"
   ]
  },
  {
   "cell_type": "code",
   "execution_count": 11,
   "metadata": {},
   "outputs": [],
   "source": [
    "# 把Instacart_LGCN_result_sorted里，第二个和第三个[]里的item_id转换成item_name，也就是test_list和pred_list\n",
    "lgcn_res_sorted_item_name = {}\n",
    "for k, v in lgcn_res_sorted.items():\n",
    "    v[1] = [item_names[i] for i in v[1]]\n",
    "    v[2] = [item_names[i] for i in v[2]]\n",
    "    lgcn_res_sorted_item_name[k] = v\n",
    "\n",
    "# 把Instacart_LGCN_tri_result_sorted里，第二个和第三个[]里的item_id转换成item_name，也就是test_list和pred_list\n",
    "lgcn_tri_res_sorted_item_name = {}\n",
    "for k, v in lgcn_tri_res_sorted.items():\n",
    "    v[1] = [item_names[i] for i in v[1]]\n",
    "    v[2] = [item_names[i] for i in v[2]]\n",
    "    lgcn_tri_res_sorted_item_name[k] = v\n",
    "\n",
    "# # 重新写进json\n",
    "# with open(AB_test_dir + 'Instacart_LGCN_result_sorted_product_name.json', 'w') as f:\n",
    "#     json.dump(lgcn_res_sorted_item_name, f)\n",
    "# with open(AB_test_dir + 'Instacart_LGCN_tri_result_sorted_product_name.json', 'w') as f:\n",
    "#     json.dump(lgcn_tri_res_sorted_item_name, f)"
   ]
  },
  {
   "cell_type": "markdown",
   "metadata": {},
   "source": [
    "### Check the difference of LGCN recommend items and LGCN_tri recommend items"
   ]
  },
  {
   "cell_type": "code",
   "execution_count": 18,
   "metadata": {},
   "outputs": [],
   "source": [
    "# 读入tri_graph_uidx2pidx.json，以便知道每个user被assign了哪些persona\n",
    "with open('dataset/Instacart/tri_graph_uidx2pidx.json', 'r') as f:\n",
    "    uid2pidx = json.load(f)\n",
    "# 按user_id排序\n",
    "uid2pidx_sorted = {int(k): v for k,v in uid2pidx.items()}\n",
    "\n",
    "# 再读入tri_graph_tidx2pidx.json，以便知道每个item有哪些persona\n",
    "with open('dataset/Instacart/tri_graph_tidx2pidx.json', 'r') as f:\n",
    "    tidx2pidx = json.load(f)\n",
    "# 按item_id排序\n",
    "tidx2pidx_sorted = {int(k): v for k,v in tidx2pidx.items()}"
   ]
  },
  {
   "cell_type": "code",
   "execution_count": 19,
   "metadata": {},
   "outputs": [
    {
     "data": {
      "text/plain": [
       "(18388, 41521, 18388, 41521)"
      ]
     },
     "execution_count": 19,
     "metadata": {},
     "output_type": "execute_result"
    }
   ],
   "source": [
    "len(uid2pidx), len(tidx2pidx), len(uid2pidx_sorted), len(tidx2pidx_sorted)"
   ]
  },
  {
   "cell_type": "code",
   "execution_count": 20,
   "metadata": {},
   "outputs": [
    {
     "data": {
      "text/plain": [
       "'[31, 37, 21, 30]'"
      ]
     },
     "execution_count": 20,
     "metadata": {},
     "output_type": "execute_result"
    }
   ],
   "source": [
    "str(uid2pidx_sorted[10268])"
   ]
  },
  {
   "cell_type": "code",
   "execution_count": 21,
   "metadata": {},
   "outputs": [],
   "source": [
    "# 对于lgcn_res_sorted_item_name和lgcn_tri_res_sorted_item_name，看看他们的pred_list里有哪些不一样的item_name\n",
    "# 对于每个user，记录item_in_lgcn_not_in_lgcn_tri和item_in_lgcn_tri_not_in_lgcn\n",
    "\n",
    "item_in_lgcn_not_in_lgcn_tri = {}\n",
    "item_in_lgcn_tri_not_in_lgcn = {}\n",
    "for k in lgcn_res_sorted_item_name.keys():\n",
    "    v1 = lgcn_res_sorted_item_name[k]\n",
    "    v2 = lgcn_tri_res_sorted_item_name[k]\n",
    "    item_in_lgcn_not_in_lgcn_tri[k] = [i for i in v1[2] if i not in v2[2]]\n",
    "    item_in_lgcn_tri_not_in_lgcn[k] = [i for i in v2[2] if i not in v1[2]]\n",
    "\n",
    "# # 保存到json\n",
    "# with open(AB_test_dir + 'item_in_lgcn_not_in_lgcn_tri.json', 'w') as f:\n",
    "#     json.dump(item_in_lgcn_not_in_lgcn_tri, f)\n",
    "# with open(AB_test_dir + 'item_in_lgcn_tri_not_in_lgcn.json', 'w') as f:\n",
    "#     json.dump(item_in_lgcn_tri_not_in_lgcn, f)"
   ]
  },
  {
   "cell_type": "code",
   "execution_count": 22,
   "metadata": {},
   "outputs": [
    {
     "data": {
      "text/plain": [
       "(1008, 200)"
      ]
     },
     "execution_count": 22,
     "metadata": {},
     "output_type": "execute_result"
    }
   ],
   "source": [
    "# 找出在lgcn和lgcn_tri两个方法中被推荐item区别最大的user，也就是说，对于这个user，它在item_in_lgcn_not_in_lgcn_tri和item_in_lgcn_tri_not_in_lgcn里的item数量总数最多\n",
    "max_diff_user = -1\n",
    "max_diff_num = 0\n",
    "for k in item_in_lgcn_not_in_lgcn_tri.keys():\n",
    "    diff_num = len(item_in_lgcn_not_in_lgcn_tri[k]) + len(item_in_lgcn_tri_not_in_lgcn[k])\n",
    "    if diff_num > max_diff_num:\n",
    "        max_diff_num = diff_num\n",
    "        max_diff_user = k\n",
    "\n",
    "max_diff_user, max_diff_num\n"
   ]
  },
  {
   "cell_type": "code",
   "execution_count": 25,
   "metadata": {},
   "outputs": [
    {
     "data": {
      "text/plain": [
       "[24, 18, 13, 25]"
      ]
     },
     "execution_count": 25,
     "metadata": {},
     "output_type": "execute_result"
    }
   ],
   "source": [
    "# 看看这个user的persona是什么\n",
    "uid2pidx_sorted[max_diff_user]"
   ]
  },
  {
   "cell_type": "code",
   "execution_count": 18,
   "metadata": {},
   "outputs": [
    {
     "data": {
      "text/plain": [
       "['Organic Baby Spinach',\n",
       " 'Cheez-It Baked Snack Crackers',\n",
       " 'Organic Marinara Sauce',\n",
       " 'Hazelnut Spread with Cocoa',\n",
       " 'Smartwater',\n",
       " 'Aged White Cheddar Popcorn',\n",
       " 'Sinfully Sweet Campari Tomatoes',\n",
       " 'Organic Blueberries',\n",
       " '8\\\\\" Flour Tortillas De Harina',\n",
       " 'Beef Hot Dogs',\n",
       " 'Original Rice Krispies Treats',\n",
       " 'Fresh Mozzarella All-Natural Sliced Cheese',\n",
       " 'Grilled Chicken Strips',\n",
       " 'Organic Chicken Stock',\n",
       " 'Organic Baby Carrots',\n",
       " 'Beef Dinner Franks',\n",
       " 'Chocolate Chip Cookies',\n",
       " 'Organic Turkey Breast',\n",
       " 'Organic Strawberries',\n",
       " 'Stir Fry Vegetables',\n",
       " 'Veggie Cheese & Pretzel Snack Pac Prepacked',\n",
       " 'Classic Hot Dog Buns',\n",
       " 'Organic Green Beans',\n",
       " 'Raw Shrimp',\n",
       " 'Brioche Hamburger Buns',\n",
       " 'Prosciutto Di Parma',\n",
       " 'Raisin Bran',\n",
       " 'Artichoke And Jalapeño Dip & Spread',\n",
       " 'Organic Spinach And Cheese Ravioli',\n",
       " 'Organic Spring Mix']"
      ]
     },
     "execution_count": 18,
     "metadata": {},
     "output_type": "execute_result"
    }
   ],
   "source": [
    "# 把这个用户的item_in_lgcn_not_in_lgcn_tri和item_in_lgcn_tri_not_in_lgcn里的item_name打印出来\n",
    "# item_in_lgcn_not_in_lgcn_tri[max_diff_user], item_in_lgcn_tri_not_in_lgcn[max_diff_user]\n",
    "# item_in_lgcn_not_in_lgcn_tri[5]\n",
    "item_in_lgcn_tri_not_in_lgcn[15302]"
   ]
  },
  {
   "cell_type": "code",
   "execution_count": 19,
   "metadata": {},
   "outputs": [
    {
     "name": "stdout",
     "output_type": "stream",
     "text": [
      "0: [31, 7, 2, 48, 47]\n",
      "0: [42, 31, 37, 7, 35, 40, 45, 32]\n",
      "1: [31, 14, 48, 11]\n",
      "1: [21, 16, 8]\n",
      "2: [31, 37, 11, 2, 34]\n",
      "2: [42, 31, 37, 7, 45, 35]\n",
      "3: [31, 10, 37, 49, 23, 34, 11, 36]\n",
      "3: [16, 43, 23, 49]\n",
      "4: [42, 3, 6, 10]\n",
      "4: [31, 30, 17, 3]\n",
      "5: [31, 37, 40, 9]\n",
      "5: [16, 21, 37]\n",
      "6: [31, 48, 49, 37]\n",
      "6: [31, 37, 7, 19, 40, 41]\n",
      "7: [42, 3, 31, 37, 7, 45, 38, 29]\n",
      "7: [42, 31, 37, 9, 3, 7, 40, 45]\n",
      "8: [31, 7, 35, 43, 34, 11, 36, 14]\n",
      "8: [26, 4, 8, 16]\n",
      "9: [31, 30, 3, 17, 42]\n",
      "9: [10, 46, 28, 8, 16]\n",
      "10: [31, 17, 37, 40, 9]\n",
      "10: [26, 10, 16, 8]\n",
      "11: [31, 3, 17, 7, 30, 37, 45]\n",
      "11: [42, 31, 37, 2, 34, 48]\n",
      "12: [31, 37, 17, 7, 9, 40, 34, 11]\n",
      "12: [31, 17, 26, 11, 8, 36]\n",
      "13: [42, 19, 37, 31]\n",
      "13: [42, 31, 37, 3, 49, 45]\n",
      "14: [37, 40, 7, 31, 41, 19, 42, 3]\n",
      "14: [42, 31, 37, 3, 7, 45, 40, 22]\n",
      "15: [31, 37, 7, 35, 23, 45, 11, 34]\n",
      "15: [46, 28, 26, 16]\n",
      "16: [42, 31, 37, 3, 7, 43, 40, 45]\n",
      "16: [16, 21, 43]\n",
      "17: [21, 16, 8]\n",
      "17: [42, 31, 37, 49, 3, 45]\n",
      "18: [42, 31, 3, 37, 7, 9, 45, 20]\n",
      "18: [42, 31, 3, 37, 40, 7, 9]\n",
      "19: [31, 0, 19, 37, 40, 9, 41]\n",
      "19: [7, 31, 37, 26, 40, 35]\n",
      "20: [31, 40, 9, 7]\n",
      "20: [26, 31, 10, 21, 2, 7]\n",
      "21: [31, 7, 19, 21, 37]\n",
      "21: [16, 26, 8, 28]\n",
      "22: [31, 37, 40, 9, 41]\n",
      "22: [42, 31, 3, 37, 7, 40, 45, 41]\n",
      "23: [31, 37, 40, 41]\n",
      "23: [12, 19, 17, 11]\n",
      "24: [31, 37, 40, 7, 9, 3]\n",
      "24: [19, 16, 43, 28, 8]\n",
      "25: [31, 37, 7, 40, 9]\n",
      "25: [19, 4, 46]\n",
      "26: [42, 31, 3, 37, 7, 45]\n",
      "26: [31, 23, 37, 11]\n",
      "27: [3, 0, 38]\n",
      "27: [19, 24, 4, 21]\n",
      "28: [31, 47]\n",
      "28: [42, 31, 37, 10, 26]\n",
      "29: [31, 21, 7, 37, 35, 45]\n",
      "29: [42, 31, 37, 7, 40, 45]\n"
     ]
    },
    {
     "ename": "IndexError",
     "evalue": "list index out of range",
     "output_type": "error",
     "traceback": [
      "\u001b[0;31m---------------------------------------------------------------------------\u001b[0m",
      "\u001b[0;31mIndexError\u001b[0m                                Traceback (most recent call last)",
      "Cell \u001b[0;32mIn[19], line 6\u001b[0m\n\u001b[1;32m      4\u001b[0m count_lgcn_tri \u001b[38;5;241m=\u001b[39m \u001b[38;5;241m0\u001b[39m\n\u001b[1;32m      5\u001b[0m \u001b[38;5;28;01mfor\u001b[39;00m i \u001b[38;5;129;01min\u001b[39;00m \u001b[38;5;28mrange\u001b[39m (\u001b[38;5;241m0\u001b[39m, \u001b[38;5;241m99\u001b[39m):\n\u001b[0;32m----> 6\u001b[0m     \u001b[38;5;28mprint\u001b[39m(\u001b[38;5;124mf\u001b[39m\u001b[38;5;124m'\u001b[39m\u001b[38;5;132;01m{\u001b[39;00mi\u001b[38;5;132;01m}\u001b[39;00m\u001b[38;5;124m: \u001b[39m\u001b[38;5;132;01m{\u001b[39;00mtidx2pidx_sorted[items_kv[item_in_lgcn_not_in_lgcn_tri[\u001b[38;5;241m15302\u001b[39m][i]]]\u001b[38;5;132;01m}\u001b[39;00m\u001b[38;5;124m'\u001b[39m)\n\u001b[1;32m      7\u001b[0m     \u001b[38;5;28mprint\u001b[39m(\u001b[38;5;124mf\u001b[39m\u001b[38;5;124m'\u001b[39m\u001b[38;5;132;01m{\u001b[39;00mi\u001b[38;5;132;01m}\u001b[39;00m\u001b[38;5;124m: \u001b[39m\u001b[38;5;132;01m{\u001b[39;00mtidx2pidx_sorted[items_kv[item_in_lgcn_tri_not_in_lgcn[\u001b[38;5;241m15302\u001b[39m][i]]]\u001b[38;5;132;01m}\u001b[39;00m\u001b[38;5;124m'\u001b[39m)\n\u001b[1;32m      8\u001b[0m     \u001b[38;5;28;01mif\u001b[39;00m \u001b[38;5;241m7\u001b[39m \u001b[38;5;129;01min\u001b[39;00m tidx2pidx_sorted[items_kv[item_in_lgcn_not_in_lgcn_tri[\u001b[38;5;241m15302\u001b[39m][i]]]:\n",
      "\u001b[0;31mIndexError\u001b[0m: list index out of range"
     ]
    }
   ],
   "source": [
    "# 看item_in_lgcn_tri_not_in_lgcn[5][0]对应的persona是什么\n",
    "# position_list = [3, 5, 8, 9, 10, 11, 13, 16, 22, 25, 26, 33, 34, 41]\n",
    "count_lgcn = 0\n",
    "count_lgcn_tri = 0\n",
    "for i in range (0, 99):\n",
    "    print(f'{i}: {tidx2pidx_sorted[items_kv[item_in_lgcn_not_in_lgcn_tri[15302][i]]]}')\n",
    "    print(f'{i}: {tidx2pidx_sorted[items_kv[item_in_lgcn_tri_not_in_lgcn[15302][i]]]}')\n",
    "    if 7 in tidx2pidx_sorted[items_kv[item_in_lgcn_not_in_lgcn_tri[15302][i]]]:\n",
    "        count_lgcn += 1\n",
    "    if 7 in tidx2pidx_sorted[items_kv[item_in_lgcn_tri_not_in_lgcn[15302][i]]]:\n",
    "        count_lgcn_tri += 1\n",
    "# tidx2pidx_sorted[items_kv[item_in_lgcn_tri_not_in_lgcn[5][3]]]\n",
    "print(count_lgcn, count_lgcn_tri)\n",
    "\n"
   ]
  },
  {
   "cell_type": "markdown",
   "metadata": {},
   "source": [
    "### Narrow down user range: 5 purchased items, top 20, overlap percentage inceases most: 2/20->5/20;"
   ]
  },
  {
   "cell_type": "code",
   "execution_count": null,
   "metadata": {},
   "outputs": [
    {
     "name": "stdout",
     "output_type": "stream",
     "text": [
      "[255, 330, 511, 520, 2194, 2520, 2993, 3558, 4079, 4195, 5345, 6030, 6073, 6272, 6543, 8204, 8432, 8853, 9226, 9774, 10218, 10636, 11195, 11372, 11454, 11464, 12485, 12609, 14534, 14952, 14981, 15858, 15993, 18282, 19348, 20124, 20423, 13340, 443, 2228, 5393, 5997, 7005, 9707, 10616, 12081, 13152, 14353, 356, 494, 569, 584, 742, 968, 1325, 1384, 1400, 1407, 1787, 1832, 1987, 2361, 2823, 2902, 3019, 3108, 3816, 3929, 3984, 4296, 4310, 4436, 4655, 5443, 5974, 6183, 6191, 6230, 6240, 6686, 6859, 8090, 8348, 8358, 8408, 8498, 8971, 9221, 9395, 9580, 9737, 9908, 9990, 10339, 10497, 10570, 10753, 11039, 11049, 11072]\n"
     ]
    }
   ],
   "source": [
    "overlap_count_lgcn = {}\n",
    "overlap_percentage_lgcn = {}\n",
    "overlap_count_lgcn_tri = {}\n",
    "overlap_percentage_lgcn_tri = {}\n",
    "incresed_percentage = {}\n",
    "\n",
    "for k in lgcn_res_sorted_item_name.keys():\n",
    "# for k in range (1, 2):\n",
    "    v1 = lgcn_res_sorted_item_name[k]\n",
    "    v2 = lgcn_tri_res_sorted_item_name[k]\n",
    "    # print(set(v1[2][:20]))\n",
    "    # print(set(v1[1][0:]))\n",
    "    overlap_count_lgcn[k] = len(set(v1[2][:20]) & set(v1[1][0:]))\n",
    "    overlap_percentage_lgcn[k] = overlap_count_lgcn[k] / len(set(v1[1][0:]))\n",
    "    # print(overlap_percentage_lgcn[k])\n",
    "    overlap_count_lgcn_tri[k] = len(set(v2[2][:20]) & set(v2[1][0:]))\n",
    "    overlap_percentage_lgcn_tri[k] = overlap_count_lgcn_tri[k] / len(set(v2[1][0:]))\n",
    "    # print(overlap_percentage_lgcn_tri[k])\n",
    "    incresed_percentage[k] = overlap_percentage_lgcn_tri[k] - overlap_percentage_lgcn[k]\n",
    "\n",
    "# 找出increase_percentage最大的100个user\n",
    "sorted_incresed_percentage = sorted(incresed_percentage.items(), key=lambda x: x[1], reverse=True)\n",
    "# sorted_incresed_percentage[:100]\n",
    "# 把这些user写进一个list\n",
    "top_100_incresed_percentage = [k for k, v in sorted_incresed_percentage[:100]]\n",
    "print(top_100_incresed_percentage)"
   ]
  },
  {
   "cell_type": "markdown",
   "metadata": {},
   "source": [
    "### For those newly corrected chosen items, check if they are related with assigned personas;"
   ]
  },
  {
   "cell_type": "code",
   "execution_count": null,
   "metadata": {},
   "outputs": [],
   "source": [
    "new_correct_items = {}\n",
    "removed_wrong_items = {}\n",
    "\n",
    "for k in top_100_incresed_percentage:\n",
    "    v1 = lgcn_res_sorted_item_name[k]\n",
    "    v2 = lgcn_tri_res_sorted_item_name[k]\n",
    "    new_correct_items[k] = [i for i in v2[2][:20] if i not in v1[2][:20] and i in v2[1]]\n",
    "    removed_wrong_items[k] = [i for i in v1[2][:20] if i not in v2[2][:20] and i not in v1[1]]"
   ]
  },
  {
   "cell_type": "code",
   "execution_count": null,
   "metadata": {},
   "outputs": [
    {
     "ename": "KeyError",
     "evalue": "330",
     "output_type": "error",
     "traceback": [
      "\u001b[0;31m---------------------------------------------------------------------------\u001b[0m",
      "\u001b[0;31mKeyError\u001b[0m                                  Traceback (most recent call last)",
      "Cell \u001b[0;32mIn[38], line 9\u001b[0m\n\u001b[1;32m      5\u001b[0m \u001b[38;5;28;01mfor\u001b[39;00m k \u001b[38;5;129;01min\u001b[39;00m top_100_incresed_percentage:\n\u001b[1;32m      6\u001b[0m     \u001b[38;5;66;03m# print(f'{k}: {uid2pidx_sorted[k]}')\u001b[39;00m\n\u001b[1;32m      7\u001b[0m     \u001b[38;5;28;01mfor\u001b[39;00m i \u001b[38;5;129;01min\u001b[39;00m new_correct_items[k]:\n\u001b[1;32m      8\u001b[0m         \u001b[38;5;66;03m# print(f'{i}: {tidx2pidx_sorted[items_kv[i]]}')\u001b[39;00m\n\u001b[0;32m----> 9\u001b[0m         \u001b[38;5;28;01mif\u001b[39;00m \u001b[38;5;28mlen\u001b[39m(\u001b[38;5;28mset\u001b[39m(tidx2pidx_sorted[items_kv[i]]) \u001b[38;5;241m&\u001b[39m \u001b[38;5;28mset\u001b[39m(uid2pidx_sorted[k])) \u001b[38;5;241m>\u001b[39m \u001b[38;5;241m0\u001b[39m:\n\u001b[1;32m     10\u001b[0m             persona_related_item_count[k] \u001b[38;5;241m=\u001b[39m persona_related_item_count\u001b[38;5;241m.\u001b[39mget(k, \u001b[38;5;241m0\u001b[39m) \u001b[38;5;241m+\u001b[39m \u001b[38;5;241m1\u001b[39m\n\u001b[1;32m     11\u001b[0m             persona_related_item_count[k] \u001b[38;5;241m=\u001b[39m persona_related_item_count[k] \u001b[38;5;241m/\u001b[39m \u001b[38;5;28mlen\u001b[39m(new_correct_items[k]) \u001b[38;5;66;03m# ratio\u001b[39;00m\n",
      "\u001b[0;31mKeyError\u001b[0m: 330"
     ]
    }
   ],
   "source": [
    "# new_correct_items\n",
    "# 检查这些new_correct_items里的item被assign的persona，以及有多少item被assign的persona也是这个user的persona\n",
    "persona_related_item_count = {}\n",
    "# new_correct_items_persona_count\n",
    "for k in top_100_incresed_percentage:\n",
    "    # print(f'{k}: {uid2pidx_sorted[k]}')\n",
    "    for i in new_correct_items[k]:\n",
    "        # print(f'{i}: {tidx2pidx_sorted[items_kv[i]]}')\n",
    "        if len(set(tidx2pidx_sorted[items_kv[i]]) & set(uid2pidx_sorted[k])) > 0:\n",
    "            persona_related_item_count[k] = persona_related_item_count.get(k, 0) + 1\n",
    "            persona_related_item_count[k] = persona_related_item_count[k] / len(new_correct_items[k]) # ratio\n",
    "\n",
    "# 算一下平均的ratio\n",
    "average_ratio_related_with_persona = sum(persona_related_item_count.values()) / len(persona_related_item_count)\n",
    "print(average_ratio_related_with_persona)\n",
    "# len(persona_related_item_count)\n",
    "# persona_related_item_count"
   ]
  },
  {
   "cell_type": "code",
   "execution_count": null,
   "metadata": {},
   "outputs": [],
   "source": [
    "# 把这些new correct对于每个user的item写进json\n",
    "with open(AB_test_dir + 'new_correct_items.json', 'w') as f:\n",
    "    json.dump(new_correct_items, f)"
   ]
  },
  {
   "cell_type": "code",
   "execution_count": null,
   "metadata": {},
   "outputs": [],
   "source": [
    "# removed_wrong_items"
   ]
  },
  {
   "cell_type": "markdown",
   "metadata": {},
   "source": [
    "### Check about top 20 occurred items"
   ]
  },
  {
   "cell_type": "code",
   "execution_count": 12,
   "metadata": {},
   "outputs": [
    {
     "name": "stdout",
     "output_type": "stream",
     "text": [
      "['Banana', 'Bag of Organic Bananas', 'Organic Strawberries', 'Organic Baby Spinach', 'Large Lemon', 'Limes', 'Strawberries', 'Organic Hass Avocado', 'Organic Avocado', 'Organic Blueberries', 'Organic Garlic', 'Organic Yellow Onion', 'Organic Zucchini', 'Organic Raspberries', 'Cucumber Kirby', 'Organic Grape Tomatoes', 'Yellow Onions', 'Seedless Red Grapes', 'Organic Lemon', 'Organic Baby Carrots']\n"
     ]
    }
   ],
   "source": [
    "# 从G_item里找出最多的20个item\n",
    "item_count = {}\n",
    "for k in G_item.keys():\n",
    "    item_count[k] = len(G_item[k])\n",
    "sorted_item_count = sorted(item_count.items(), key=lambda x: x[1], reverse=True)\n",
    "# sorted_item_count[:20]\n",
    "# 把最多的20个item写进一个list\n",
    "overall_top_20_item = [k for k, v in sorted_item_count[:20]]\n",
    "# 然后把id转换成name\n",
    "overall_top_20_item_name = [item_names[i] for i in overall_top_20_item]\n",
    "print(overall_top_20_item_name)"
   ]
  },
  {
   "cell_type": "code",
   "execution_count": null,
   "metadata": {},
   "outputs": [],
   "source": [
    "# 把这些removed wrong对于每个user的item写进json\n",
    "with open(AB_test_dir + 'removed_wrong_popular_items.json', 'w') as f:\n",
    "    # 如果这些remove_wrong item是最热门的20个item之一，则写进json，否则不写\n",
    "    removed_wrong_items_top_20 = {}\n",
    "    for k in removed_wrong_items.keys():\n",
    "        removed_wrong_items_top_20[k] = [i for i in removed_wrong_items[k] if i in overall_top_20_item_name]\n",
    "    json.dump(removed_wrong_items_top_20, f)"
   ]
  },
  {
   "cell_type": "code",
   "execution_count": null,
   "metadata": {},
   "outputs": [
    {
     "name": "stdout",
     "output_type": "stream",
     "text": [
      "14578\n",
      "164107\n"
     ]
    }
   ],
   "source": [
    "# 首先检查对于lgcn_res_sorted_item_name的top20预测，有多少正确的item在overall_top_20_item_name里，有多少不正确的item在overall_top_20_item里\n",
    "correct_item_in_top_20_item = {}\n",
    "wrong_item_in_top_20_item = {}\n",
    "# for k in top_100_incresed_percentage:\n",
    "for k in lgcn_res_sorted_item_name.keys():\n",
    "    v1 = lgcn_res_sorted_item_name[k]\n",
    "    correct_item_in_top_20_item[k] = [i for i in v1[2][:20] if i in overall_top_20_item_name and i in v1[1]]\n",
    "    wrong_item_in_top_20_item[k] = [i for i in v1[2][:20] if i in overall_top_20_item_name and i not in v1[1]]\n",
    "\n",
    "# correct_item_in_top_20_item\n",
    "count_correct = 0\n",
    "for k in correct_item_in_top_20_item.keys():\n",
    "    count_correct += len(correct_item_in_top_20_item[k])\n",
    "print(count_correct)\n",
    "\n",
    "# wrong_item_in_top_20_item\n",
    "count_wrong = 0\n",
    "for k in wrong_item_in_top_20_item.keys():\n",
    "    count_wrong += len(wrong_item_in_top_20_item[k])\n",
    "print(count_wrong)"
   ]
  },
  {
   "cell_type": "code",
   "execution_count": null,
   "metadata": {},
   "outputs": [
    {
     "name": "stdout",
     "output_type": "stream",
     "text": [
      "13371\n",
      "123091\n"
     ]
    }
   ],
   "source": [
    "# 类似的对于lgcn_tri_res_sorted_item_name的top20预测，有多少正确的item在overall_top_20_item_name里，有多少不正确的item在overall_top_20_item里\n",
    "correct_item_in_top_20_item_tri = {}\n",
    "wrong_item_in_top_20_item_tri = {}\n",
    "# for k in top_100_incresed_percentage:\n",
    "for k in lgcn_tri_res_sorted_item_name.keys():\n",
    "    v2 = lgcn_tri_res_sorted_item_name[k]\n",
    "    correct_item_in_top_20_item_tri[k] = [i for i in v2[2][:20] if i in overall_top_20_item_name and i in v2[1]]\n",
    "    wrong_item_in_top_20_item_tri[k] = [i for i in v2[2][:20] if i in overall_top_20_item_name and i not in v2[1]]\n",
    "13\n",
    "# correct_item_in_top_20_item_tri\n",
    "count_correct_tri = 0\n",
    "for k in correct_item_in_top_20_item_tri.keys():\n",
    "    count_correct_tri += len(correct_item_in_top_20_item_tri[k])\n",
    "print(count_correct_tri)\n",
    "# wrong_item_in_top_20_item_tri\n",
    "count_wrong_tri = 0\n",
    "for k in wrong_item_in_top_20_item_tri.keys():\n",
    "    count_wrong_tri += len(wrong_item_in_top_20_item_tri[k])\n",
    "print(count_wrong_tri)"
   ]
  },
  {
   "cell_type": "markdown",
   "metadata": {},
   "source": [
    "### Specific Case Study:"
   ]
  },
  {
   "cell_type": "code",
   "execution_count": null,
   "metadata": {},
   "outputs": [
    {
     "name": "stdout",
     "output_type": "stream",
     "text": [
      "[1, 3, 9, 14]\n",
      "[3, 14, 10]\n",
      "====================================\n",
      "[3, 2, 4, 5, 6]\n",
      "[2, 7, 12]\n",
      "[14, 7, 4]\n",
      "====================================\n"
     ]
    }
   ],
   "source": [
    "# Part 1: New Correct Items Due to Right Persona\n",
    "\n",
    "# Case 0:\n",
    "# user 572 persona\n",
    "print(uid2pidx_sorted[572]) # [1, 3, 9, 14]\n",
    "# new correct items\n",
    "print(tidx2pidx_sorted[items_kv[\"TEA TIME PARTY BUNTING\"]]) # [3, 14, 10] -> 3, 14\n",
    "# where 3 is \"Seasonal and Festive Decorator\" and 14 is \"Party and Event Planners\"\n",
    "print(\"====================================\")\n",
    "\n",
    "# Case 1:\n",
    "# user 960 persona\n",
    "print(uid2pidx_sorted[960]) # [2, 3, 4, 5, 6]\n",
    "# new correct items\n",
    "print(tidx2pidx_sorted[items_kv[\"PENNY FARTHING BIRTHDAY CARD\"]]) # [2, 7, 12] -> 2\n",
    "print(tidx2pidx_sorted[items_kv[\"CARD WEDDING DAY\"]]) # [14, 7, 4] -> 4\n",
    "# where 2 is \"Vintage and Retro Enthusiast\" and 4 is \"Crafting and DIY Hobbyist\"\n",
    "print(\"====================================\")\n"
   ]
  },
  {
   "cell_type": "code",
   "execution_count": null,
   "metadata": {},
   "outputs": [
    {
     "name": "stdout",
     "output_type": "stream",
     "text": [
      "[1, 3, 9, 14]\n",
      "[1, 18, 7, 9]\n",
      "[1, 2, 4]\n",
      "====================================\n",
      "[1, 5, 7]\n",
      "[1, 4, 12]\n",
      "====================================\n"
     ]
    }
   ],
   "source": [
    "# Part 2: Wrong Removed Popular Items\n",
    "\n",
    "# Case 0:\n",
    "# user 572 persona\n",
    "print(uid2pidx_sorted[572]) # [1, 3, 9, 14]\n",
    "# removed wrong items\n",
    "print(tidx2pidx_sorted[items_kv[\"ASSORTED COLOUR BIRD ORNAMENT\"]]) # [1, 18, 7, 9] -> 7, 18\n",
    "print(tidx2pidx_sorted[items_kv[\"HEART OF WICKER LARGE\"]]) # [1, 2, 4] -> 2, 4\n",
    "# where 2 is \"Vintage and Retro Enthusiast\", 4 is \"Crafting and DIY Hobbyist\", 7 is \"Child and Family-centric Shopper\" and 18 is \"Animal and Pet Advocates\"\n",
    "print(\"====================================\")\n",
    "\n",
    "# Case 1:\n",
    "# user 479 persona\n",
    "print(uid2pidx_sorted[479]) # [1, 5, 7]\n",
    "# removed wrong items\n",
    "print(tidx2pidx_sorted[items_kv[\"NATURAL SLATE HEART CHALKBOARD\"]]) # [1, 4, 12] -> 5, 7\n",
    "# where 5 is \"Baking and Confectionery Fans\" and 7 is \"Child and Family-centric Shopper\"\n",
    "print(\"====================================\")\n",
    "\n",
    "\n",
    "\n"
   ]
  },
  {
   "cell_type": "markdown",
   "metadata": {},
   "source": [
    "### Only those with 10 test_list"
   ]
  },
  {
   "cell_type": "code",
   "execution_count": 13,
   "metadata": {},
   "outputs": [],
   "source": [
    "# Part 3: Narrow down a range for user: only select those with 5-10 items in the test set\n",
    "# 选择test set里item数量=10的user，以及他们在lgcn_res_sorted_item_name和lgcn_tri_res_sorted_item_name里的item，保存为两个json\n",
    "user_item_count = {}\n",
    "for k in lgcn_res_sorted_item_name.keys():\n",
    "    user_item_count[k] = len(lgcn_res_sorted_item_name[k][1])\n",
    "# user_item_count\n",
    "selected_user = [k for k, v in user_item_count.items() if v >= 10 and v <= 20]\n",
    "len(selected_user)\n",
    "\n",
    "selected_lgcn_res_sorted_item_name = {k: lgcn_res_sorted_item_name[k] for k in selected_user}\n",
    "selected_lgcn_tri_res_sorted_item_name = {k: lgcn_tri_res_sorted_item_name[k] for k in selected_user}\n",
    "\n",
    "# 保存到json\n",
    "# with open(AB_test_dir + 'selected_lgcn_res_sorted_item_name.json', 'w') as f:\n",
    "#     json.dump(selected_lgcn_res_sorted_item_name, f)\n",
    "# with open(AB_test_dir + 'selected_lgcn_tri_res_sorted_item_name.json', 'w') as f:\n",
    "#     json.dump(selected_lgcn_tri_res_sorted_item_name, f)\n"
   ]
  },
  {
   "cell_type": "code",
   "execution_count": 14,
   "metadata": {},
   "outputs": [],
   "source": [
    "# 看看user一致不一致\n",
    "assert sorted(selected_lgcn_res_sorted_item_name.keys()) == sorted(selected_lgcn_tri_res_sorted_item_name.keys())"
   ]
  },
  {
   "cell_type": "code",
   "execution_count": 15,
   "metadata": {},
   "outputs": [
    {
     "name": "stdout",
     "output_type": "stream",
     "text": [
      "[(1657, 0.30000000000000004), (12972, 0.30000000000000004), (8123, 0.2727272727272727), (10780, 0.23076923076923078), (12074, 0.21428571428571427), (561, 0.2), (3897, 0.2), (10268, 0.2), (10372, 0.2), (14710, 0.2), (20407, 0.2), (10665, 0.19999999999999998), (11644, 0.19999999999999998), (15594, 0.19999999999999998), (18636, 0.19999999999999998), (2735, 0.18181818181818182), (2986, 0.18181818181818182), (6570, 0.18181818181818182), (8405, 0.18181818181818182), (14933, 0.18181818181818182), (16884, 0.18181818181818182), (2852, 0.1818181818181818), (385, 0.16666666666666669), (4786, 0.16666666666666669), (5681, 0.16666666666666669), (16226, 0.16666666666666669), (1012, 0.16666666666666666), (12706, 0.16666666666666666), (15251, 0.16666666666666666), (16924, 0.16666666666666666), (17984, 0.16666666666666666), (10370, 0.15789473684210525), (5712, 0.15384615384615385), (9187, 0.15384615384615385), (11690, 0.15384615384615385), (12831, 0.15384615384615385), (13776, 0.15384615384615385), (16606, 0.15384615384615385), (20257, 0.15384615384615385), (19078, 0.14285714285714288), (3144, 0.14285714285714285), (5237, 0.14285714285714285), (11578, 0.14285714285714285), (11758, 0.14285714285714285), (11134, 0.13333333333333336), (45, 0.13333333333333333), (4248, 0.13333333333333333), (7980, 0.13333333333333333), (14935, 0.13333333333333333), (15671, 0.13333333333333333), (19799, 0.13333333333333333), (2423, 0.125), (3264, 0.125), (6760, 0.125), (10236, 0.125), (12399, 0.125), (17193, 0.125), (17289, 0.125), (5048, 0.11764705882352942), (7832, 0.11764705882352942), (7999, 0.11764705882352942), (19064, 0.11764705882352942), (4172, 0.11764705882352941), (4249, 0.11764705882352941), (5478, 0.11764705882352941), (8499, 0.11764705882352941), (13036, 0.11764705882352941), (13578, 0.11764705882352941), (19278, 0.11764705882352941), (71, 0.1111111111111111), (2421, 0.1111111111111111), (3147, 0.1111111111111111), (4523, 0.1111111111111111), (5707, 0.1111111111111111), (8892, 0.1111111111111111), (10417, 0.1111111111111111), (13715, 0.1111111111111111), (15749, 0.1111111111111111), (1939, 0.10526315789473684), (3012, 0.10526315789473684), (5764, 0.10526315789473684), (8034, 0.10526315789473684), (14795, 0.10526315789473684), (15582, 0.10526315789473684), (15920, 0.10526315789473684), (19933, 0.10526315789473684), (16368, 0.10000000000000003), (908, 0.1), (939, 0.1), (1054, 0.1), (1563, 0.1), (2255, 0.1), (2528, 0.1), (2682, 0.1), (2905, 0.1), (3022, 0.1), (3025, 0.1), (3209, 0.1), (3316, 0.1), (3323, 0.1)]\n"
     ]
    }
   ],
   "source": [
    "# Part 4: 在这些test_list长度为10的case中，找到一个典型的user，对于这个user，看他的pred_list里的top 10，对比lgcn和lgcn_tri，看看有没有new correct items和removed wrong popular items\n",
    "\n",
    "# 首先看看这些user在lgcn和lgcn_tri里的top 10有多少overlap\n",
    "overlap_count_lgcn_10 = {}\n",
    "overlap_percentage_lgcn_10 = {}\n",
    "overlap_count_lgcn_tri_10 = {}\n",
    "overlap_percentage_lgcn_tri_10 = {}\n",
    "incresed_percentage_10 = {}\n",
    "\n",
    "for k in selected_lgcn_res_sorted_item_name.keys():\n",
    "    v1 = selected_lgcn_res_sorted_item_name[k]\n",
    "    v2 = selected_lgcn_tri_res_sorted_item_name[k]\n",
    "    # print(set(v1[2][:20]))\n",
    "    # print(set(v1[1][0:]))\n",
    "    overlap_count_lgcn_10[k] = len(set(v1[2][:10]) & set(v1[1][0:]))\n",
    "    overlap_percentage_lgcn_10[k] = overlap_count_lgcn_10[k] / len(set(v1[1][0:]))\n",
    "    # print(overlap_percentage_lgcn[k])\n",
    "    overlap_count_lgcn_tri_10[k] = len(set(v2[2][:10]) & set(v2[1][0:]))\n",
    "    overlap_percentage_lgcn_tri_10[k] = overlap_count_lgcn_tri_10[k] / len(set(v2[1][0:]))\n",
    "    # print(overlap_percentage_lgcn_tri[k])\n",
    "    incresed_percentage_10[k] = overlap_percentage_lgcn_tri_10[k] - overlap_percentage_lgcn_10[k]\n",
    "\n",
    "# 找出increase_percentage最大的100个user\n",
    "sorted_incresed_percentage_10 = sorted(incresed_percentage_10.items(), key=lambda x: x[1], reverse=True)\n",
    "print(sorted_incresed_percentage_10[:100])\n",
    "\n",
    "# 把这些user写进一个list\n",
    "top_100_incresed_percentage_10 = [k for k, v in sorted_incresed_percentage_10[:100]]\n",
    "# print(top_100_incresed_percentage_10)"
   ]
  },
  {
   "cell_type": "code",
   "execution_count": 16,
   "metadata": {},
   "outputs": [
    {
     "data": {
      "text/plain": [
       "6708"
      ]
     },
     "execution_count": 16,
     "metadata": {},
     "output_type": "execute_result"
    }
   ],
   "source": [
    "len(sorted_incresed_percentage_10)"
   ]
  },
  {
   "cell_type": "code",
   "execution_count": 47,
   "metadata": {},
   "outputs": [
    {
     "name": "stdout",
     "output_type": "stream",
     "text": [
      "For user 15594: items that he really purchased are:['Broccoli & Apple Stage 2 Baby Food', 'Mushroom & Ripe Olives Pasta Sauce', 'Baby Food Stage 2 Pumpkin Banana', 'Natural Provolone Cheese Slices', 'Mighty 4 Essential Tots Spinach, Kiwi, Barley & Greek Yogurt Nutrition Blend', 'Banana', 'Spinach Peas & Pear Stage 2 Baby Food', 'Baby Food Stage 2 Blueberry Pear & Purple Carrot', 'Organic Blueberry, Beet & Banana Baby Food', 'Organic Hothouse Cucumbers']\n",
      "10\n",
      "For user 15594: items that LGCN recommended are:['Banana', 'Strawberries', 'Limes', 'Red Onion', 'Yellow Onions', 'Bunched Cilantro', 'Organic Strawberries', '100% Whole Wheat Bread', 'Cucumber Kirby', 'Green Onions', 'Spinach', 'Bag of Organic Bananas', 'Garlic', 'Roma Tomato', 'Black Beans', 'Red Vine Tomato', 'Organic Fuji Apple', 'Organic Blueberries', 'Jalapeno Peppers', 'Asparagus']\n",
      "For user 15594: items that LGCN_tri recommended are:['Banana', 'Strawberries', 'Limes', 'Spinach Peas & Pear Stage 2 Baby Food', 'Baby Food Stage 2 Blueberry Pear & Purple Carrot', 'Spinach', 'Red Onion', 'Bunched Cilantro', 'Red Peppers', 'Organic Fuji Apple', '100% Whole Wheat Bread', 'Black Beans', 'Broccoli & Apple Stage 2 Baby Food', 'Yellow Onions', 'Apple and Carrot Stage 2 Baby Food', 'Roma Tomato', 'Organic Strawberries', 'Peach,  Apricot & Banana Stage 2 Baby Food', 'Cucumber Kirby', 'Green Onions']\n",
      "====================================\n",
      "And user 15594 has persona: [22, 31, 37]\n",
      "For user 15594, new correct items are:['Spinach Peas & Pear Stage 2 Baby Food', 'Baby Food Stage 2 Blueberry Pear & Purple Carrot']\n",
      "For user 15594, removed wrong popular items are:['Yellow Onions', 'Organic Strawberries', 'Cucumber Kirby']\n",
      "====================================\n",
      "NEW CORRECT ITEMS:\n",
      "Item: Spinach Peas & Pear Stage 2 Baby Food is related with persona: [10, 31, 37, 22, 40]\n",
      "And this item is related with user 15594's persona: {37, 22, 31}\n",
      "====================================\n",
      "Item: Baby Food Stage 2 Blueberry Pear & Purple Carrot is related with persona: [10, 31, 37, 22]\n",
      "And this item is related with user 15594's persona: {37, 22, 31}\n",
      "====================================\n",
      "REMOVED WRONG ITEMS:\n",
      "Item: Yellow Onions is related with persona: [42, 31, 37, 7, 19, 40, 41, 4]\n",
      "And this item is related with user 15594's persona: {37, 31}\n",
      "====================================\n",
      "Item: Organic Strawberries is related with persona: [42, 31, 3, 37, 40, 7, 9]\n",
      "And this item is related with user 15594's persona: {37, 31}\n",
      "====================================\n",
      "Item: Cucumber Kirby is related with persona: [40, 31, 37, 7, 9]\n",
      "And this item is related with user 15594's persona: {37, 31}\n",
      "====================================\n"
     ]
    }
   ],
   "source": [
    "# Part 5: 具体看看某个user和其推荐情况\n",
    "specific_user = 15594\n",
    "\n",
    "# 打印1657这个user的test_list\n",
    "print(\"For user \" + str(specific_user) + \": items that he really purchased are:\" + str(selected_lgcn_res_sorted_item_name[specific_user][1]))\n",
    "print(len(selected_lgcn_res_sorted_item_name[specific_user][1]))\n",
    "# 再打印1657这个user的pred_list（使用LGCN的top 10）\n",
    "print(\"For user \" + str(specific_user) + \": items that LGCN recommended are:\" + str(selected_lgcn_res_sorted_item_name[specific_user][2][:20]))\n",
    "# 再打印1657这个user的pred_list（使用LGCN_tri的top 10）\n",
    "print(\"For user \" + str(specific_user) + \": items that LGCN_tri recommended are:\" + str(selected_lgcn_tri_res_sorted_item_name[specific_user][2][:20]))\n",
    "print(\"====================================\")\n",
    "\n",
    "# user specific_user persona\n",
    "print(\"And user \" +str(specific_user) + \" has persona: \" + str(uid2pidx_sorted[specific_user])) # [5, 3, 9, 14, 8, 7]\n",
    "# where 5 is \"Baking and Confectionery Fans\", 3 is \"Seasonal and Festive Decorator\";\n",
    "# 7 is \"Child and Family-centric Shopper\", 8 is \"Gardening Lover\", \n",
    "# 9 is \"Comfort and Coziness Seeker\" and 14 is \"Party and Event Planners\"\n",
    "\n",
    "# find new correct items\n",
    "new_correct_items_specific = [i for i in selected_lgcn_tri_res_sorted_item_name[specific_user][2][:10] if i not in selected_lgcn_res_sorted_item_name[specific_user][2][:10] and i in selected_lgcn_tri_res_sorted_item_name[specific_user][1][:10]]\n",
    "print(\"For user \" + str(specific_user) + \", new correct items are:\" + str(new_correct_items_specific))\n",
    "# find removed wrong popular items\n",
    "removed_wrong_items_specfic = [i for i in selected_lgcn_res_sorted_item_name[specific_user][2][:10] if i not in selected_lgcn_tri_res_sorted_item_name[specific_user][2][:10] and i not in selected_lgcn_res_sorted_item_name[specific_user][1][:10] and i in overall_top_20_item_name]\n",
    "print(\"For user \" + str(specific_user) + \", removed wrong popular items are:\" + str(removed_wrong_items_specfic))\n",
    "print(\"====================================\")\n",
    "\n",
    "# new correct item analysis\n",
    "print(\"NEW CORRECT ITEMS:\")\n",
    "persona_related_item_count_specific = {}\n",
    "for i in new_correct_items_specific:\n",
    "    print(\"Item: \" + i + \" is related with persona: \" + str(tidx2pidx_sorted[items_kv[i]]))\n",
    "    if len(set(tidx2pidx_sorted[items_kv[i]]) & set(uid2pidx_sorted[specific_user])) > 0:\n",
    "        print(\"And this item is related with user \"+ str(specific_user) + \"'s persona: \" + str(set(tidx2pidx_sorted[items_kv[i]]) & set(uid2pidx_sorted[specific_user])))\n",
    "    print(\"====================================\")\n",
    "\n",
    "# removed wrong items analysis\n",
    "print(\"REMOVED WRONG ITEMS:\")\n",
    "if len(removed_wrong_items_specfic) == 0:\n",
    "    print(\"No removed wrong popular items for user \" + str(specific_user))\n",
    "for i in removed_wrong_items_specfic:\n",
    "    print(\"Item: \" + i + \" is related with persona: \" + str(tidx2pidx_sorted[items_kv[i]]))\n",
    "    if len(set(tidx2pidx_sorted[items_kv[i]]) & set(uid2pidx_sorted[specific_user])) > 0:\n",
    "        print(\"And this item is related with user \"+ str(specific_user) + \"'s persona: \" + str(set(tidx2pidx_sorted[items_kv[i]]) & set(uid2pidx_sorted[specific_user])))\n",
    "    print(\"====================================\")\n"
   ]
  },
  {
   "cell_type": "code",
   "execution_count": null,
   "metadata": {},
   "outputs": [],
   "source": [
    "# 看看15594在tri_graph_uidx2pidx.json里有哪些购买的item\n"
   ]
  },
  {
   "cell_type": "code",
   "execution_count": null,
   "metadata": {},
   "outputs": [],
   "source": [
    "persona2idx_whole = {'The Homebody': 0,\n",
    "       'The Tea Lover': 1,\n",
    "       'The Dairy-free Shopper': 2,\n",
    "       'The Eco-friendly Shopper': 3,\n",
    "       'The International Cuisine Lover': 4,\n",
    "       'The Pet Owner': 5,\n",
    "       'The Home Entertainer': 6,\n",
    "       'The Vegan': 7,\n",
    "       'The Lunchbox Packer': 8,\n",
    "       'The Smoothie Maker': 9,\n",
    "       'The Busy Parent': 10,\n",
    "       'The High-protein Shopper': 11,\n",
    "       'The Seafood Lover': 12,\n",
    "       'The Wine Connoisseur': 13,\n",
    "       'The Nut-free Shopper': 14,\n",
    "       'The Luxury Lover': 15,\n",
    "       'The Comfort Food Lover': 16,\n",
    "       'The Fitness Fanatic': 17,\n",
    "       'The Artisanal Cheese Lover': 18,\n",
    "       'The Gourmet Chef': 19,\n",
    "       'The Frozen Food Fan': 20,\n",
    "       'The Snack Adventurer': 21,\n",
    "       'The Baby Care Provider': 22,\n",
    "       'The Breakfast Lover': 23,\n",
    "       'The Party Planner': 24,\n",
    "       'The DIY Cocktail Mixer': 25,\n",
    "       'The Quick Meals Shopper': 26,\n",
    "       'The Tech Savvy': 27,\n",
    "       'The Grill Master': 28,\n",
    "       'The Fair-trade Supporter': 29,\n",
    "       'The Hydration Focused': 30,\n",
    "       'The Health Enthusiast': 31,\n",
    "       'The Allergy-conscious Shopper': 32,\n",
    "       'The Spice Explorer': 33,\n",
    "       'The Keto Diet Follower': 34,\n",
    "       'The Gluten-free Shopper': 35,\n",
    "       'The Paleo Diet Follower': 36,\n",
    "       'The Organic Foodie': 37,\n",
    "       'The Zero-waste Advocate': 38,\n",
    "       'The Craft Beer Enthusiast': 39,\n",
    "       'The Fresh Produce Fanatic': 40,\n",
    "       'The Localvore': 41,\n",
    "       'The Conscious Consumer': 42,\n",
    "       'The Baker': 43,\n",
    "       'The Supplements User': 44,\n",
    "       'The Non-GMO Shopper': 45,\n",
    "       'The Meat Lover': 46,\n",
    "       'The Sugar-free Shopper': 47,\n",
    "       'The Low-sodium Shopper': 48,\n",
    "       'The Health Nut': 49,\n",
    "       'The Coffee Aficionado': 50}"
   ]
  },
  {
   "cell_type": "code",
   "execution_count": null,
   "metadata": {},
   "outputs": [
    {
     "name": "stdout",
     "output_type": "stream",
     "text": [
      "For user 701, items that he really purchased are:['WOODEN BOX OF DOMINOES', 'CHRISTMAS CRAFT WHITE FAIRY', '3 STRIPEY MICE FELTCRAFT', 'PAPER BUNTING VINTAGE PAISLEY', 'PINK FLORAL FELTCRAFT SHOULDER BAG', 'FELTCRAFT PRINCESS OLIVIA DOLL', 'PACK OF 12 SUKI TISSUES', 'TRADITIONAL WOODEN SKIPPING ROPE', 'FELTCRAFT DOLL EMILY', 'WORLD WAR 2 GLIDERS ASSTD DESIGNS']\n",
      "For user 701, items that LGCN recommended are:['PINK CREAM FELT CRAFT TRINKET BOX', '3 STRIPEY MICE FELTCRAFT', 'PINK BLUE FELT CRAFT TRINKET BOX', 'REGENCY CAKESTAND 3 TIER', 'FELTCRAFT DOLL MOLLY', 'JAM MAKING SET WITH JARS', 'PARTY BUNTING', 'FELTCRAFT DOLL EMILY', 'WHITE HANGING HEART T-LIGHT HOLDER', 'TRADITIONAL KNITTING NANCY']\n",
      "For user 701, items that LGCN_tri recommended are:['PINK CREAM FELT CRAFT TRINKET BOX', 'PINK BLUE FELT CRAFT TRINKET BOX', 'PARTY BUNTING', 'FELTCRAFT DOLL MOLLY', '3 STRIPEY MICE FELTCRAFT', 'SPOTTY BUNTING', 'PINK FLORAL FELTCRAFT SHOULDER BAG', 'FELTCRAFT DOLL EMILY', 'FELTCRAFT PRINCESS OLIVIA DOLL', 'PLAYING CARDS KEEP CALM & CARRY ON']\n",
      "And user 701 has persona: [3, 5, 4, 2, 1, 9, 7]\n",
      "For user 701, new correct items are:['PINK FLORAL FELTCRAFT SHOULDER BAG', 'FELTCRAFT PRINCESS OLIVIA DOLL']\n",
      "For user 701, removed wrong popular items are:['REGENCY CAKESTAND 3 TIER', 'JAM MAKING SET WITH JARS', 'WHITE HANGING HEART T-LIGHT HOLDER']\n",
      "NEW CORRECT ITEMS:\n",
      "Item: PINK FLORAL FELTCRAFT SHOULDER BAG: [16, 4, 7]\n",
      "And this item is related with user 701's persona: 'Crafting and DIY Hobbyist' and 'Collector of Unique and Novelty Items'\n",
      "Item: FELTCRAFT PRINCESS OLIVIA DOLL: [4, 6, 7]\n",
      "And this item is related with user 701's persona: 'Crafting and DIY Hobbyist' and 'Collector of Unique and Novelty Items'\n",
      "REMOVED WRONG ITEMS:\n",
      "Item: REGENCY CAKESTAND 3 TIER: [5, 1, 2, 0, 10]\n",
      "And this item is related with user 701's persona: 'Kitchen and Culinary Enthusiast' and 'Tea and Coffee Lover'\n",
      "Item: JAM MAKING SET WITH JARS: [4, 5, 0, 13]\n",
      "And this item is related with user 701's persona: 'Kitchen and Culinary Enthusiast' and 'Eco-friendly and Sustainable Goods Supporter'\n",
      "====================================\n"
     ]
    }
   ],
   "source": [
    "# 类似的看看701这个user和其推荐情况\n",
    "\n",
    "# 打印701这个user的test_list\n",
    "print(\"For user 701, items that he really purchased are:\" + str(selected_lgcn_res_sorted_item_name[701][1]))\n",
    "# 再打印701这个user的pred_list（使用LGCN的top 10）\n",
    "print(\"For user 701, items that LGCN recommended are:\" + str(selected_lgcn_res_sorted_item_name[701][2][:10]))\n",
    "# 再打印701这个user的pred_list（使用LGCN_tri的top 10）\n",
    "print(\"For user 701, items that LGCN_tri recommended are:\" + str(selected_lgcn_tri_res_sorted_item_name[701][2][:10]))\n",
    "\n",
    "# user 701 persona\n",
    "print(\"And user 701 has persona: \" + str(uid2pidx_sorted[701])) # [3, 5, 4, 2, 1, 9, 7]\n",
    "\n",
    "# 首先找出对于701有哪些new correct items\n",
    "new_correct_items_701 = [i for i in selected_lgcn_tri_res_sorted_item_name[701][2][:10] if i not in selected_lgcn_res_sorted_item_name[701][2][:10] and i in selected_lgcn_tri_res_sorted_item_name[701][1][:10]]\n",
    "print(\"For user 701, new correct items are:\" + str(new_correct_items_701))\n",
    "# 再找出对于701有哪些removed wrong popular items\n",
    "removed_wrong_items_701 = [i for i in selected_lgcn_res_sorted_item_name[701][2][:10] if i not in selected_lgcn_tri_res_sorted_item_name[701][2][:10] and i not in selected_lgcn_res_sorted_item_name[701][1][:10] and i in overall_top_20_item_name]\n",
    "print(\"For user 701, removed wrong popular items are:\" + str(removed_wrong_items_701))\n",
    "\n",
    "# new correct items\n",
    "print(\"NEW CORRECT ITEMS:\")\n",
    "\n",
    "print(\"Item: PINK FLORAL FELTCRAFT SHOULDER BAG: \" + str(tidx2pidx_sorted[items_kv[\"PINK FLORAL FELTCRAFT SHOULDER BAG\"]])) # [16, 4, 7] -> 4, 7\n",
    "print(\"And this item is related with user 701's persona: 'Crafting and DIY Hobbyist' and 'Collector of Unique and Novelty Items'\")\n",
    "print(\"Item: FELTCRAFT PRINCESS OLIVIA DOLL: \" + str(tidx2pidx_sorted[items_kv[\"FELTCRAFT PRINCESS OLIVIA DOLL\"]])) # [4, 7, 6] -> 4, 7\n",
    "print(\"And this item is related with user 701's persona: 'Crafting and DIY Hobbyist' and 'Collector of Unique and Novelty Items'\")\n",
    "\n",
    "# removed wrong items\n",
    "print(\"REMOVED WRONG ITEMS:\")\n",
    "print(\"Item: REGENCY CAKESTAND 3 TIER: \" + str(tidx2pidx_sorted[items_kv[\"REGENCY CAKESTAND 3 TIER\"]])) # [5, 1, 2, 0, 10] -> 0, 10\n",
    "print(\"And this item is related with user 701's persona: 'Kitchen and Culinary Enthusiast' and 'Tea and Coffee Lover'\")\n",
    "print(\"Item: JAM MAKING SET WITH JARS: \" + str(tidx2pidx_sorted[items_kv[\"JAM MAKING SET WITH JARS\"]])) # [4, 5, 0, 13] -> 0, 13\n",
    "print(\"And this item is related with user 701's persona: 'Kitchen and Culinary Enthusiast' and 'Eco-friendly and Sustainable Goods Supporter'\")\n",
    "# print(\"Item: WHITE HANGING HEART T-LIGHT HOLDER: \" + str(tidx2pidx_sorted[items_kv[\"WHITE HANGING HEART T-LIGHT HOLDER\"]])) # [1, 2, 3] -> None\n",
    "# where 0 is \"Kitchen and Culinary Enthusiast\" and 10 is \"Tea and Coffee Lover\" and 13 is \"Eco-friendly and Sustainable Goods Supporter\"\n",
    "\n",
    "print(\"====================================\")\n"
   ]
  },
  {
   "cell_type": "code",
   "execution_count": null,
   "metadata": {},
   "outputs": [],
   "source": [
    "# 1. 这两个item的popularity在所有item中分别处于什么位置：首先把这两个item_name对应到index，然后在sorted_item_count里找到这两个item的位置\n",
    "print(\"For item 'PINK FLORAL FELTCRAFT SHOULDER BAG':\")\n",
    "print(items_kv[\"PINK FLORAL FELTCRAFT SHOULDER BAG\"])\n",
    "# print(item_count[items_kv[\"PINK FLORAL FELTCRAFT SHOULDER BAG\"]])\n",
    "print(\"The popularity of this item is: \" + str(item_count[items_kv[\"PINK FLORAL FELTCRAFT SHOULDER BAG\"]]))\n",
    "print(sorted_item_count[601])\n",
    "print(\"====================================\")\n",
    "\n",
    "print(\"For item 'FELTCRAFT PRINCESS OLIVIA DOLL':\")\n",
    "print(items_kv[\"FELTCRAFT PRINCESS OLIVIA DOLL\"])\n",
    "# print(item_count[items_kv[\"FELTCRAFT PRINCESS OLIVIA DOLL\"]])\n",
    "print(\"The popularity of this item is: \" + str(item_count[items_kv[\"FELTCRAFT PRINCESS OLIVIA DOLL\"]]))\n",
    "print(sorted_item_count[379])\n",
    "print(\"====================================\")\n",
    "\n",
    "\n",
    "# print(overall_top_20_item_name)\n",
    "# print(\"====================================\")\n",
    "\n",
    "# For original recommended popular 3 items:['REGENCY CAKESTAND 3 TIER', 'JAM MAKING SET WITH JARS', 'WHITE HANGING HEART T-LIGHT HOLDER']\n",
    "print(\"For item 'REGENCY CAKESTAND 3 TIER':\")\n",
    "# print(items_kv[\"REGENCY CAKESTAND 3 TIER\"])\n",
    "# print(sorted_item_count[items_kv[\"REGENCY CAKESTAND 3 TIER\"]])\n",
    "print(\"The popularity of this item is: \" + str(item_count[items_kv[\"REGENCY CAKESTAND 3 TIER\"]]))\n",
    "print(\"====================================\")\n",
    "\n",
    "\n",
    "print(\"For item 'JAM MAKING SET WITH JARS':\")\n",
    "# print(items_kv[\"JAM MAKING SET WITH JARS\"])\n",
    "# print(sorted_item_count[items_kv[\"JAM MAKING SET WITH JARS\"]])\n",
    "print(\"The popularity of this item is: \" + str(item_count[items_kv[\"JAM MAKING SET WITH JARS\"]]))\n",
    "print(\"====================================\")\n",
    "\n",
    "\n",
    "print(\"For item 'WHITE HANGING HEART T-LIGHT HOLDER':\")\n",
    "# print(items_kv[\"WHITE HANGING HEART T-LIGHT HOLDER\"])\n",
    "# print(sorted_item_count[items_kv[\"WHITE HANGING HEART T-LIGHT HOLDER\"]])\n",
    "print(\"The popularity of this item is: \" + str(item_count[items_kv[\"WHITE HANGING HEART T-LIGHT HOLDER\"]]))\n",
    "print(\"====================================\")\n",
    "\n",
    "\n",
    "# user 701\n",
    "user_index = 701\n",
    "# item 'PINK FLORAL FELTCRAFT SHOULDER BAG'\n",
    "item_index = items_kv[\"PINK FLORAL FELTCRAFT SHOULDER BAG\"]\n",
    "# item 'FELTCRAFT PRINCESS OLIVIA DOLL'\n",
    "item_index_2 = items_kv[\"FELTCRAFT PRINCESS OLIVIA DOLL\"]\n",
    "\n",
    "# user 701 <-> item 'PINK FLORAL FELTCRAFT SHOULDER BAG'\n",
    "if G_user.get(user_index) is not None:\n",
    "    if item_index in G_user[user_index]:\n",
    "        print(\"User 701 and item 'PINK FLORAL FELTCRAFT SHOULDER BAG' are connected.\")\n",
    "    else:\n",
    "        print(\"User 701 and item 'PINK FLORAL FELTCRAFT SHOULDER BAG' are not connected.\")\n",
    "print(\"====================================\")\n",
    "\n",
    "# user 701 <-> item 'FELTCRAFT PRINCESS OLIVIA DOLL'\n",
    "if G_user.get(user_index) is not None:\n",
    "    if item_index_2 in G_user[user_index]:\n",
    "        print(\"User 701 and item 'FELTCRAFT PRINCESS OLIVIA DOLL' are connected.\")\n",
    "    else:\n",
    "        print(\"User 701 and item 'FELTCRAFT PRINCESS OLIVIA DOLL' are not connected.\")\n",
    "print(\"====================================\")\n",
    "\n",
    "# 在train的graph里找到这两个item的连接的user，看有几跳\n",
    "with open('dataset/Instacart/tri_graph_uidx2tidx_train.json', 'r') as f:\n",
    "    uidx2tidx_train = json.load(f)\n",
    "\n",
    "print(item_index, item_index_2)\n",
    "\n",
    "\n"
   ]
  },
  {
   "cell_type": "code",
   "execution_count": 65,
   "metadata": {},
   "outputs": [],
   "source": [
    "# 在train的graph里找到这两个item的连接的user，看有几跳\n",
    "with open('dataset/Instacart/tri_graph_uidx2tidx_train.json', 'r') as f:\n",
    "    uidx2tidx_train = json.load(f)\n",
    "# Check the training set of user 1657"
   ]
  },
  {
   "cell_type": "code",
   "execution_count": 67,
   "metadata": {},
   "outputs": [
    {
     "name": "stdout",
     "output_type": "stream",
     "text": [
      "[93, 361, 20929, 4954, 3284, 7910, 9514, 8995, 231, 1254, 134, 14975, 307, 262, 560, 6893, 119, 2390, 3478, 2687, 6788, 2781, 9098, 24440, 6998, 779, 19557, 2684, 936, 3456, 6618, 6822, 9110, 6224, 1546, 28409, 196, 2226, 4999]\n",
      "Country Stand Juice, Medium Pulp\n",
      "Organic Zucchini\n",
      "Whole Grain Rotini\n",
      "Stage 2 Green Bean Pear Greek Yogurt Baby Food\n",
      "Stage 2 Sweet Potato Corn & Apple Baby Food\n",
      "Lightly Salted Rice Cakes\n",
      "Frozen Concentrated Original Orange Juice\n",
      "Roasted Chicken Breast\n",
      "Organic Blackberries\n",
      "Organic Baby Spinach Salad\n",
      "Blueberries\n",
      "Tuna Chunk Light In Water\n",
      "Original Hummus\n",
      "Broccoli Crown\n",
      "Organic Romaine Hearts\n",
      "Baby Food Stage 2 Raspberry Spinach & Greek Yogurt\n",
      "Organic Avocado\n",
      "Whole Grain Oat Cereal\n",
      "Some Pulp Orange Juice\n",
      "Boneless And Skinless Chicken Breast\n",
      "Cleanser & Polish\n",
      "Organic Grade A Large Brown Eggs\n",
      "Stacy's Multigrain Pita Chips\n",
      "Amazin Prune Juice\n",
      "Chunk Light Tuna In Water\n",
      "Organic Yams\n",
      "Spicy Red Pepper\n",
      "Cherubs Heavenly Salad Tomatoes\n",
      "Organic D'Anjou Pears\n",
      "Pure Dark Brown Cane Sugar\n",
      "1st Foods Prunes\n",
      "Chunk Light Tuna in Water\n",
      "Ground Turkey\n",
      "Jet Puffed Miniature Marshmallows\n",
      "Lite Balsamic Dressing\n",
      "Olives, Spanish, Manzanillas, Stuffed with Minced Pimiento\n",
      "Large Lemon\n",
      "Organic Plain Whole Milk Yogurt\n",
      "Baby Food Stage 2 Sweet Potato Mango & Millet\n"
     ]
    }
   ],
   "source": [
    "# import itertools\n",
    "\n",
    "# value_15594 = next(itertools.islice(uidx2tidx_train.values(), 15593, None))\n",
    "# # 把value 1657里的item index转换成item name\n",
    "# item_names_15594 = [item_names[i] for i in value_15594]\n",
    "# print(item_names_15594)\n",
    "# print(len(item_names_15594))\n",
    "\n",
    "user_id = '15594'\n",
    "items_bought_by_user = uidx2tidx_train.get(user_id, [])\n",
    "print(items_bought_by_user)\n",
    "for item in items_bought_by_user:\n",
    "    print(item_names[item])\n",
    "# print(item_names[93])"
   ]
  },
  {
   "cell_type": "code",
   "execution_count": null,
   "metadata": {},
   "outputs": [
    {
     "name": "stdout",
     "output_type": "stream",
     "text": [
      "User 701 and item 'PINK FLORAL FELTCRAFT SHOULDER BAG' are not connected.\n",
      "====================================\n",
      "User 701 and item 'FELTCRAFT PRINCESS OLIVIA DOLL' are not connected.\n",
      "====================================\n",
      "User 701 and item 'PINK FLORAL FELTCRAFT SHOULDER BAG' and 'FELTCRAFT PRINCESS OLIVIA DOLL' are connected through another user.\n",
      "And there are 758 users that connect them.\n"
     ]
    }
   ],
   "source": [
    "# 首先检查在uidx2tidx_train里，对于用户701，这两个item是否有连接\n",
    "if uidx2tidx_train.get(str(user_index)) is not None:\n",
    "    if item_index in uidx2tidx_train[str(user_index)]:\n",
    "        print(\"User 701 and item 'PINK FLORAL FELTCRAFT SHOULDER BAG' are connected.\")\n",
    "    else:\n",
    "        print(\"User 701 and item 'PINK FLORAL FELTCRAFT SHOULDER BAG' are not connected.\")\n",
    "print(\"====================================\")\n",
    "\n",
    "if uidx2tidx_train.get(str(user_index)) is not None:\n",
    "    if item_index_2 in uidx2tidx_train[str(user_index)]:\n",
    "        print(\"User 701 and item 'FELTCRAFT PRINCESS OLIVIA DOLL' are connected.\")\n",
    "    else:\n",
    "        print(\"User 701 and item 'FELTCRAFT PRINCESS OLIVIA DOLL' are not connected.\")\n",
    "print(\"====================================\")\n",
    "\n",
    "# 但是可以检查uidx2tidx，是否在701的item里有别的item，这个item连接到另一个user，然后另一个user的item里有这两个item\n",
    "items_for_701 = uidx2tidx_train[str(user_index)]\n",
    "num_of_connection_user = 0\n",
    "\n",
    "for item in items_for_701:\n",
    "    for user in uidx2tidx_train.keys():\n",
    "        if user != str(user_index):\n",
    "            if item in uidx2tidx_train[user]:\n",
    "                if item_index in uidx2tidx_train[user]: # and item_index_2 in uidx2tidx_train[user]:\n",
    "                    # print(\"User 701 and item 'PINK FLORAL FELTCRAFT SHOULDER BAG' and 'FELTCRAFT PRINCESS OLIVIA DOLL' are connected through another user.\")\n",
    "                    # print(\"And this user is: \" + str(user))\n",
    "                    num_of_connection_user += 1\n",
    "\n",
    "print(\"User 701 and item 'PINK FLORAL FELTCRAFT SHOULDER BAG' and 'FELTCRAFT PRINCESS OLIVIA DOLL' are connected through another user.\")\n",
    "print(\"And there are \" + str(num_of_connection_user) + \" users that connect them.\")\n"
   ]
  },
  {
   "cell_type": "code",
   "execution_count": null,
   "metadata": {},
   "outputs": [
    {
     "name": "stdout",
     "output_type": "stream",
     "text": [
      "User 701 and item 'REGENCY CAKESTAND 3 TIER' are not connected.\n",
      "====================================\n",
      "User 701 and item 'JAM MAKING SET WITH JARS' are not connected.\n",
      "====================================\n",
      "User 701 and item 'WHITE HANGING HEART T-LIGHT HOLDER' are not connected.\n",
      "====================================\n",
      "User 701 and item 'REGENCY CAKESTAND 3 TIER' and 'JAM MAKING SET WITH JARS' and 'WHITE HANGING HEART T-LIGHT HOLDER' are connected through another user.\n",
      "And there are 1878 users that connect them.\n"
     ]
    }
   ],
   "source": [
    "wrong_item_index_1 = items_kv[\"REGENCY CAKESTAND 3 TIER\"]\n",
    "wrong_item_index_2 = items_kv[\"JAM MAKING SET WITH JARS\"]\n",
    "wrong_item_index_3 = items_kv[\"WHITE HANGING HEART T-LIGHT HOLDER\"]\n",
    "\n",
    "# 再检查wrong item是不是和user 701有连接\n",
    "if uidx2tidx_train.get(str(user_index)) is not None:\n",
    "    if wrong_item_index_1 in uidx2tidx_train[str(user_index)]:\n",
    "        print(\"User 701 and item 'REGENCY CAKESTAND 3 TIER' are connected.\")\n",
    "    else:\n",
    "        print(\"User 701 and item 'REGENCY CAKESTAND 3 TIER' are not connected.\")\n",
    "print(\"====================================\")\n",
    "\n",
    "if uidx2tidx_train.get(str(user_index)) is not None:\n",
    "    if wrong_item_index_2 in uidx2tidx_train[str(user_index)]:\n",
    "        print(\"User 701 and item 'JAM MAKING SET WITH JARS' are connected.\")\n",
    "    else:\n",
    "        print(\"User 701 and item 'JAM MAKING SET WITH JARS' are not connected.\")\n",
    "print(\"====================================\")\n",
    "\n",
    "if uidx2tidx_train.get(str(user_index)) is not None:\n",
    "    if wrong_item_index_3 in uidx2tidx_train[str(user_index)]:\n",
    "        print(\"User 701 and item 'WHITE HANGING HEART T-LIGHT HOLDER' are connected.\")\n",
    "    else:\n",
    "        print(\"User 701 and item 'WHITE HANGING HEART T-LIGHT HOLDER' are not connected.\")\n",
    "print(\"====================================\")\n",
    "\n",
    "# 但是可以检查uidx2tidx，是否在701的item里有别的item，这个item连接到另一个user，然后另一个user的item里有这三个错误item\n",
    "items_for_701 = uidx2tidx_train[str(user_index)]\n",
    "num_of_connection_user_wrong = 0\n",
    "\n",
    "for item in items_for_701:\n",
    "    for user in uidx2tidx_train.keys():\n",
    "        if user != str(user_index):\n",
    "            if item in uidx2tidx_train[user]:\n",
    "                if wrong_item_index_3 in uidx2tidx_train[user]: # and wrong_item_index_2 in uidx2tidx_train[user] and wrong_item_index_3 in uidx2tidx_train[user]:\n",
    "                    # print(\"User 701 and item 'REGENCY CAKESTAND 3 TIER' and 'JAM MAKING SET WITH JARS' and 'WHITE HANGING HEART T-LIGHT HOLDER' are connected through another user.\")\n",
    "                    # print(\"And this user is: \" + str(user))\n",
    "                    num_of_connection_user_wrong += 1\n",
    "\n",
    "print(\"User 701 and item 'REGENCY CAKESTAND 3 TIER' and 'JAM MAKING SET WITH JARS' and 'WHITE HANGING HEART T-LIGHT HOLDER' are connected through another user.\")\n",
    "print(\"And there are \" + str(num_of_connection_user_wrong) + \" users that connect them.\")"
   ]
  },
  {
   "cell_type": "code",
   "execution_count": null,
   "metadata": {},
   "outputs": [
    {
     "name": "stdout",
     "output_type": "stream",
     "text": [
      "1657\n"
     ]
    }
   ],
   "source": [
    "# uidx为701的user的uid\n",
    "for user in user_ids_kv.keys():\n",
    "    if user_ids_kv[user] == 1657:\n",
    "        print(user)\n",
    "        break"
   ]
  }
 ],
 "metadata": {
  "kernelspec": {
   "display_name": "dis-llm",
   "language": "python",
   "name": "python3"
  },
  "language_info": {
   "codemirror_mode": {
    "name": "ipython",
    "version": 3
   },
   "file_extension": ".py",
   "mimetype": "text/x-python",
   "name": "python",
   "nbconvert_exporter": "python",
   "pygments_lexer": "ipython3",
   "version": "3.11.7"
  }
 },
 "nbformat": 4,
 "nbformat_minor": 2
}
